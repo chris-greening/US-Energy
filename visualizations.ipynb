{
 "cells": [
  {
   "cell_type": "code",
   "execution_count": 3,
   "metadata": {},
   "outputs": [],
   "source": [
    "import json\n",
    "import datetime\n",
    "\n",
    "import pandas as pd \n",
    "# import geopandas as gpd \n",
    "import numpy as np\n",
    "import plotly.express as px \n",
    "import plotly\n",
    "\n",
    "import data_processing as dp\n",
    "import plot_computations as pc "
   ]
  },
  {
   "cell_type": "code",
   "execution_count": 280,
   "metadata": {},
   "outputs": [
    {
     "data": {
      "text/html": [
       "<div>\n",
       "<style scoped>\n",
       "    .dataframe tbody tr th:only-of-type {\n",
       "        vertical-align: middle;\n",
       "    }\n",
       "\n",
       "    .dataframe tbody tr th {\n",
       "        vertical-align: top;\n",
       "    }\n",
       "\n",
       "    .dataframe thead th {\n",
       "        text-align: right;\n",
       "    }\n",
       "</style>\n",
       "<table border=\"1\" class=\"dataframe\">\n",
       "  <thead>\n",
       "    <tr style=\"text-align: right;\">\n",
       "      <th></th>\n",
       "      <th>State</th>\n",
       "      <th>Source</th>\n",
       "      <th>Sector</th>\n",
       "      <th>Unit</th>\n",
       "      <th>Year</th>\n",
       "      <th>BTU</th>\n",
       "    </tr>\n",
       "  </thead>\n",
       "  <tbody>\n",
       "    <tr>\n",
       "      <th>0</th>\n",
       "      <td>Alaska</td>\n",
       "      <td>Aviation gasoline blending components</td>\n",
       "      <td>Industrial</td>\n",
       "      <td>Billion BTU</td>\n",
       "      <td>1960</td>\n",
       "      <td>0.0</td>\n",
       "    </tr>\n",
       "    <tr>\n",
       "      <th>1</th>\n",
       "      <td>Alaska</td>\n",
       "      <td>Asphalt and road oil</td>\n",
       "      <td>Industrial</td>\n",
       "      <td>Billion BTU</td>\n",
       "      <td>1960</td>\n",
       "      <td>312.0</td>\n",
       "    </tr>\n",
       "    <tr>\n",
       "      <th>2</th>\n",
       "      <td>Alaska</td>\n",
       "      <td>Asphalt and road oil</td>\n",
       "      <td>Total</td>\n",
       "      <td>Billion BTU</td>\n",
       "      <td>1960</td>\n",
       "      <td>312.0</td>\n",
       "    </tr>\n",
       "    <tr>\n",
       "      <th>3</th>\n",
       "      <td>Alaska</td>\n",
       "      <td>Aviation gasoline</td>\n",
       "      <td>Transportation</td>\n",
       "      <td>Billion BTU</td>\n",
       "      <td>1960</td>\n",
       "      <td>5209.0</td>\n",
       "    </tr>\n",
       "    <tr>\n",
       "      <th>4</th>\n",
       "      <td>Alaska</td>\n",
       "      <td>Aviation gasoline</td>\n",
       "      <td>Total</td>\n",
       "      <td>Billion BTU</td>\n",
       "      <td>1960</td>\n",
       "      <td>5209.0</td>\n",
       "    </tr>\n",
       "    <tr>\n",
       "      <th>...</th>\n",
       "      <td>...</td>\n",
       "      <td>...</td>\n",
       "      <td>...</td>\n",
       "      <td>...</td>\n",
       "      <td>...</td>\n",
       "      <td>...</td>\n",
       "    </tr>\n",
       "    <tr>\n",
       "      <th>463263</th>\n",
       "      <td>Wyoming</td>\n",
       "      <td>Wood and biomass waste</td>\n",
       "      <td>Total</td>\n",
       "      <td>Billion BTU</td>\n",
       "      <td>2018</td>\n",
       "      <td>4901.0</td>\n",
       "    </tr>\n",
       "    <tr>\n",
       "      <th>463264</th>\n",
       "      <td>Wyoming</td>\n",
       "      <td>Waxes</td>\n",
       "      <td>Industrial</td>\n",
       "      <td>Billion BTU</td>\n",
       "      <td>2018</td>\n",
       "      <td>0.0</td>\n",
       "    </tr>\n",
       "    <tr>\n",
       "      <th>463265</th>\n",
       "      <td>Wyoming</td>\n",
       "      <td>Wind energy</td>\n",
       "      <td>Commercial</td>\n",
       "      <td>Billion BTU</td>\n",
       "      <td>2018</td>\n",
       "      <td>0.0</td>\n",
       "    </tr>\n",
       "    <tr>\n",
       "      <th>463266</th>\n",
       "      <td>Wyoming</td>\n",
       "      <td>Wind energy</td>\n",
       "      <td>Industrial</td>\n",
       "      <td>Billion BTU</td>\n",
       "      <td>2018</td>\n",
       "      <td>0.0</td>\n",
       "    </tr>\n",
       "    <tr>\n",
       "      <th>463267</th>\n",
       "      <td>Wyoming</td>\n",
       "      <td>Wind energy</td>\n",
       "      <td>Total</td>\n",
       "      <td>Billion BTU</td>\n",
       "      <td>2018</td>\n",
       "      <td>36936.0</td>\n",
       "    </tr>\n",
       "  </tbody>\n",
       "</table>\n",
       "<p>463268 rows × 6 columns</p>\n",
       "</div>"
      ],
      "text/plain": [
       "          State                                 Source          Sector  \\\n",
       "0        Alaska  Aviation gasoline blending components      Industrial   \n",
       "1        Alaska                   Asphalt and road oil      Industrial   \n",
       "2        Alaska                   Asphalt and road oil           Total   \n",
       "3        Alaska                      Aviation gasoline  Transportation   \n",
       "4        Alaska                      Aviation gasoline           Total   \n",
       "...         ...                                    ...             ...   \n",
       "463263  Wyoming                 Wood and biomass waste           Total   \n",
       "463264  Wyoming                                  Waxes      Industrial   \n",
       "463265  Wyoming                            Wind energy      Commercial   \n",
       "463266  Wyoming                            Wind energy      Industrial   \n",
       "463267  Wyoming                            Wind energy           Total   \n",
       "\n",
       "               Unit  Year      BTU  \n",
       "0       Billion BTU  1960      0.0  \n",
       "1       Billion BTU  1960    312.0  \n",
       "2       Billion BTU  1960    312.0  \n",
       "3       Billion BTU  1960   5209.0  \n",
       "4       Billion BTU  1960   5209.0  \n",
       "...             ...   ...      ...  \n",
       "463263  Billion BTU  2018   4901.0  \n",
       "463264  Billion BTU  2018      0.0  \n",
       "463265  Billion BTU  2018      0.0  \n",
       "463266  Billion BTU  2018      0.0  \n",
       "463267  Billion BTU  2018  36936.0  \n",
       "\n",
       "[463268 rows x 6 columns]"
      ]
     },
     "execution_count": 280,
     "metadata": {},
     "output_type": "execute_result"
    }
   ],
   "source": [
    "df = dp.load_dataset()\n",
    "df"
   ]
  },
  {
   "cell_type": "markdown",
   "metadata": {},
   "source": [
    "# Creating United States choropleth"
   ]
  },
  {
   "cell_type": "code",
   "execution_count": 281,
   "metadata": {},
   "outputs": [],
   "source": [
    "total_df = dp.data_subset(df, sources=[\"Total\"], sectors=[\"Total consumption per capita\"])"
   ]
  },
  {
   "cell_type": "code",
   "execution_count": 282,
   "metadata": {},
   "outputs": [],
   "source": [
    "# gdf = gpd.read_file(r\"cb_2018_us_state_20m\\cb_2018_us_state_20m.shp\")\n",
    "# gdf.to_crs(epsg=4326)\n",
    "\n",
    "# fig = px.choropleth_mapbox(total_df, locations=\"State\", color=\"BTU\", geojson=json.loads(gdf.to_json()), featureidkey=\"properties.NAME\", color_continuous_scale=plotly.colors.diverging.Temps, range_color=(0,1000), animation_frame=\"Year\", title=\"Total energy consumption (million BTU) per capita in the US\")\n",
    "# fig.update_layout(mapbox_style=\"carto-positron\",\n",
    "#                   mapbox_zoom=2.6, mapbox_center={\"lat\": 38, \"lon\": -98})\n",
    "# fig.show()"
   ]
  },
  {
   "cell_type": "markdown",
   "metadata": {},
   "source": [
    "# Visualizing energy resource usage in the United States "
   ]
  },
  {
   "cell_type": "code",
   "execution_count": 283,
   "metadata": {},
   "outputs": [
    {
     "data": {
      "text/html": [
       "<div>\n",
       "<style scoped>\n",
       "    .dataframe tbody tr th:only-of-type {\n",
       "        vertical-align: middle;\n",
       "    }\n",
       "\n",
       "    .dataframe tbody tr th {\n",
       "        vertical-align: top;\n",
       "    }\n",
       "\n",
       "    .dataframe thead th {\n",
       "        text-align: right;\n",
       "    }\n",
       "</style>\n",
       "<table border=\"1\" class=\"dataframe\">\n",
       "  <thead>\n",
       "    <tr style=\"text-align: right;\">\n",
       "      <th></th>\n",
       "      <th>State</th>\n",
       "      <th>Source</th>\n",
       "      <th>Sector</th>\n",
       "      <th>Unit</th>\n",
       "      <th>Year</th>\n",
       "      <th>BTU</th>\n",
       "    </tr>\n",
       "  </thead>\n",
       "  <tbody>\n",
       "    <tr>\n",
       "      <th>6777</th>\n",
       "      <td>United States</td>\n",
       "      <td>Total</td>\n",
       "      <td>Total</td>\n",
       "      <td>Billion BTU</td>\n",
       "      <td>1960</td>\n",
       "      <td>45033606.0</td>\n",
       "    </tr>\n",
       "    <tr>\n",
       "      <th>6778</th>\n",
       "      <td>United States</td>\n",
       "      <td>Total</td>\n",
       "      <td>Total consumption per capita</td>\n",
       "      <td>Million BTU</td>\n",
       "      <td>1960</td>\n",
       "      <td>249.3</td>\n",
       "    </tr>\n",
       "    <tr>\n",
       "      <th>14629</th>\n",
       "      <td>United States</td>\n",
       "      <td>Total</td>\n",
       "      <td>Total</td>\n",
       "      <td>Billion BTU</td>\n",
       "      <td>1961</td>\n",
       "      <td>45684153.0</td>\n",
       "    </tr>\n",
       "    <tr>\n",
       "      <th>14630</th>\n",
       "      <td>United States</td>\n",
       "      <td>Total</td>\n",
       "      <td>Total consumption per capita</td>\n",
       "      <td>Million BTU</td>\n",
       "      <td>1961</td>\n",
       "      <td>248.7</td>\n",
       "    </tr>\n",
       "    <tr>\n",
       "      <th>22481</th>\n",
       "      <td>United States</td>\n",
       "      <td>Total</td>\n",
       "      <td>Total</td>\n",
       "      <td>Billion BTU</td>\n",
       "      <td>1962</td>\n",
       "      <td>47773067.0</td>\n",
       "    </tr>\n",
       "    <tr>\n",
       "      <th>...</th>\n",
       "      <td>...</td>\n",
       "      <td>...</td>\n",
       "      <td>...</td>\n",
       "      <td>...</td>\n",
       "      <td>...</td>\n",
       "      <td>...</td>\n",
       "    </tr>\n",
       "    <tr>\n",
       "      <th>446490</th>\n",
       "      <td>United States</td>\n",
       "      <td>Total</td>\n",
       "      <td>Total consumption per capita</td>\n",
       "      <td>Million BTU</td>\n",
       "      <td>2016</td>\n",
       "      <td>301.3</td>\n",
       "    </tr>\n",
       "    <tr>\n",
       "      <th>454341</th>\n",
       "      <td>United States</td>\n",
       "      <td>Total</td>\n",
       "      <td>Total</td>\n",
       "      <td>Billion BTU</td>\n",
       "      <td>2017</td>\n",
       "      <td>97613024.0</td>\n",
       "    </tr>\n",
       "    <tr>\n",
       "      <th>454342</th>\n",
       "      <td>United States</td>\n",
       "      <td>Total</td>\n",
       "      <td>Total consumption per capita</td>\n",
       "      <td>Million BTU</td>\n",
       "      <td>2017</td>\n",
       "      <td>300.4</td>\n",
       "    </tr>\n",
       "    <tr>\n",
       "      <th>462193</th>\n",
       "      <td>United States</td>\n",
       "      <td>Total</td>\n",
       "      <td>Total</td>\n",
       "      <td>Billion BTU</td>\n",
       "      <td>2018</td>\n",
       "      <td>101083621.0</td>\n",
       "    </tr>\n",
       "    <tr>\n",
       "      <th>462194</th>\n",
       "      <td>United States</td>\n",
       "      <td>Total</td>\n",
       "      <td>Total consumption per capita</td>\n",
       "      <td>Million BTU</td>\n",
       "      <td>2018</td>\n",
       "      <td>309.4</td>\n",
       "    </tr>\n",
       "  </tbody>\n",
       "</table>\n",
       "<p>118 rows × 6 columns</p>\n",
       "</div>"
      ],
      "text/plain": [
       "                State Source                        Sector         Unit  Year  \\\n",
       "6777    United States  Total                         Total  Billion BTU  1960   \n",
       "6778    United States  Total  Total consumption per capita  Million BTU  1960   \n",
       "14629   United States  Total                         Total  Billion BTU  1961   \n",
       "14630   United States  Total  Total consumption per capita  Million BTU  1961   \n",
       "22481   United States  Total                         Total  Billion BTU  1962   \n",
       "...               ...    ...                           ...          ...   ...   \n",
       "446490  United States  Total  Total consumption per capita  Million BTU  2016   \n",
       "454341  United States  Total                         Total  Billion BTU  2017   \n",
       "454342  United States  Total  Total consumption per capita  Million BTU  2017   \n",
       "462193  United States  Total                         Total  Billion BTU  2018   \n",
       "462194  United States  Total  Total consumption per capita  Million BTU  2018   \n",
       "\n",
       "                BTU  \n",
       "6777     45033606.0  \n",
       "6778          249.3  \n",
       "14629    45684153.0  \n",
       "14630         248.7  \n",
       "22481    47773067.0  \n",
       "...             ...  \n",
       "446490        301.3  \n",
       "454341   97613024.0  \n",
       "454342        300.4  \n",
       "462193  101083621.0  \n",
       "462194        309.4  \n",
       "\n",
       "[118 rows x 6 columns]"
      ]
     },
     "execution_count": 283,
     "metadata": {},
     "output_type": "execute_result"
    }
   ],
   "source": [
    "total_df = dp.data_subset(df, states=[\"United States\"], sectors=[\"Total\", \"Total consumption per capita\"])\n",
    "total_df = total_df[total_df[\"Source\"] == \"Total\"]\n",
    "total_df"
   ]
  },
  {
   "cell_type": "code",
   "execution_count": 284,
   "metadata": {},
   "outputs": [],
   "source": [
    "total_df = total_df.groupby([\"Year\", \"Sector\", \"Unit\", \"Source\"], as_index=False).sum()\n",
    "per_cap_mask = total_df[\"Sector\"] == \"Total consumption per capita\"\n",
    "per_cap_df = total_df[per_cap_mask]\n",
    "total_consumption_df = total_df[~per_cap_mask]\n",
    "\n",
    "# per_cap_df"
   ]
  },
  {
   "cell_type": "code",
   "execution_count": 285,
   "metadata": {},
   "outputs": [
    {
     "name": "stderr",
     "output_type": "stream",
     "text": [
      "<ipython-input-285-4d256d74dbd2>:1: SettingWithCopyWarning:\n",
      "\n",
      "\n",
      "A value is trying to be set on a copy of a slice from a DataFrame.\n",
      "Try using .loc[row_indexer,col_indexer] = value instead\n",
      "\n",
      "See the caveats in the documentation: https://pandas.pydata.org/pandas-docs/stable/user_guide/indexing.html#returning-a-view-versus-a-copy\n",
      "\n"
     ]
    },
    {
     "data": {
      "application/vnd.plotly.v1+json": {
       "config": {
        "plotlyServerURL": "https://plot.ly"
       },
       "data": [
        {
         "hovertemplate": "<b>%{hovertext}</b><br><br>Year=%{x}<br>Quadrillion BTU=%{y}<extra></extra>",
         "hovertext": [
          1960,
          1961,
          1962,
          1963,
          1964,
          1965,
          1966,
          1967,
          1968,
          1969,
          1970,
          1971,
          1972,
          1973,
          1974,
          1975,
          1976,
          1977,
          1978,
          1979,
          1980,
          1981,
          1982,
          1983,
          1984,
          1985,
          1986,
          1987,
          1988,
          1989,
          1990,
          1991,
          1992,
          1993,
          1994,
          1995,
          1996,
          1997,
          1998,
          1999,
          2000,
          2001,
          2002,
          2003,
          2004,
          2005,
          2006,
          2007,
          2008,
          2009,
          2010,
          2011,
          2012,
          2013,
          2014,
          2015,
          2016,
          2017,
          2018
         ],
         "legendgroup": "",
         "line": {
          "color": "black",
          "dash": "solid"
         },
         "mode": "lines",
         "name": "",
         "orientation": "v",
         "showlegend": false,
         "type": "scatter",
         "x": [
          1960,
          1961,
          1962,
          1963,
          1964,
          1965,
          1966,
          1967,
          1968,
          1969,
          1970,
          1971,
          1972,
          1973,
          1974,
          1975,
          1976,
          1977,
          1978,
          1979,
          1980,
          1981,
          1982,
          1983,
          1984,
          1985,
          1986,
          1987,
          1988,
          1989,
          1990,
          1991,
          1992,
          1993,
          1994,
          1995,
          1996,
          1997,
          1998,
          1999,
          2000,
          2001,
          2002,
          2003,
          2004,
          2005,
          2006,
          2007,
          2008,
          2009,
          2010,
          2011,
          2012,
          2013,
          2014,
          2015,
          2016,
          2017,
          2018
         ],
         "xaxis": "x",
         "y": [
          45.033606,
          45.684153,
          47.773067,
          49.60563,
          51.766732,
          53.965864,
          56.960904,
          58.91687,
          62.401694,
          65.57892,
          67.720114,
          69.163993,
          72.677208,
          75.723857,
          73.914525,
          71.953031,
          75.966653,
          77.946963,
          79.978066,
          80.835915,
          78.047519,
          76.093624,
          73.006067,
          72.879382,
          76.510942,
          76.406632,
          76.592009,
          78.960216,
          82.711222,
          84.731901,
          84.45529,
          84.379011,
          85.731655,
          87.294876,
          89.010843,
          90.994772,
          94.005089,
          94.656462,
          94.933435,
          96.525795,
          98.694694,
          96.03923,
          97.542436,
          97.834861,
          100.013808,
          100.109417,
          99.387992,
          100.916033,
          98.764639,
          93.969365,
          97.516156,
          96.854306,
          94.369517,
          97.101796,
          98.269642,
          97.366585,
          97.30083,
          97.613024,
          101.083621
         ],
         "yaxis": "y"
        }
       ],
       "layout": {
        "coloraxis": {
         "colorbar": {
          "title": {
           "text": "Million BTU per capita"
          }
         }
        },
        "height": 500,
        "hovermode": "x",
        "legend": {
         "tracegroupgap": 0
        },
        "shapes": [
         {
          "fillcolor": "LightCoral",
          "layer": "below",
          "line": {
           "width": 1
          },
          "opacity": 0.5,
          "type": "rect",
          "x0": "1960-01-01",
          "x1": "1961-01-01",
          "xref": "x",
          "y0": 0,
          "y1": 1,
          "yref": "y domain"
         },
         {
          "fillcolor": "SkyBlue",
          "layer": "below",
          "line": {
           "width": 1
          },
          "opacity": 0.5,
          "type": "rect",
          "x0": "1961-01-01",
          "x1": "1963-01-01",
          "xref": "x",
          "y0": 0,
          "y1": 1,
          "yref": "y domain"
         },
         {
          "fillcolor": "SkyBlue",
          "layer": "below",
          "line": {
           "width": 1
          },
          "opacity": 0.5,
          "type": "rect",
          "x0": "1963-01-01",
          "x1": "1969-01-01",
          "xref": "x",
          "y0": 0,
          "y1": 1,
          "yref": "y domain"
         },
         {
          "fillcolor": "LightCoral",
          "layer": "below",
          "line": {
           "width": 1
          },
          "opacity": 0.5,
          "type": "rect",
          "x0": "1969-01-01",
          "x1": "1974-01-01",
          "xref": "x",
          "y0": 0,
          "y1": 1,
          "yref": "y domain"
         },
         {
          "fillcolor": "LightCoral",
          "layer": "below",
          "line": {
           "width": 1
          },
          "opacity": 0.5,
          "type": "rect",
          "x0": "1974-01-01",
          "x1": "1977-01-01",
          "xref": "x",
          "y0": 0,
          "y1": 1,
          "yref": "y domain"
         },
         {
          "fillcolor": "SkyBlue",
          "layer": "below",
          "line": {
           "width": 1
          },
          "opacity": 0.5,
          "type": "rect",
          "x0": "1977-01-01",
          "x1": "1981-01-01",
          "xref": "x",
          "y0": 0,
          "y1": 1,
          "yref": "y domain"
         },
         {
          "fillcolor": "LightCoral",
          "layer": "below",
          "line": {
           "width": 1
          },
          "opacity": 0.5,
          "type": "rect",
          "x0": "1981-01-01",
          "x1": "1989-01-01",
          "xref": "x",
          "y0": 0,
          "y1": 1,
          "yref": "y domain"
         },
         {
          "fillcolor": "LightCoral",
          "layer": "below",
          "line": {
           "width": 1
          },
          "opacity": 0.5,
          "type": "rect",
          "x0": "1989-01-01",
          "x1": "1993-01-01",
          "xref": "x",
          "y0": 0,
          "y1": 1,
          "yref": "y domain"
         },
         {
          "fillcolor": "SkyBlue",
          "layer": "below",
          "line": {
           "width": 1
          },
          "opacity": 0.5,
          "type": "rect",
          "x0": "1993-01-01",
          "x1": "2001-01-01",
          "xref": "x",
          "y0": 0,
          "y1": 1,
          "yref": "y domain"
         },
         {
          "fillcolor": "LightCoral",
          "layer": "below",
          "line": {
           "width": 1
          },
          "opacity": 0.5,
          "type": "rect",
          "x0": "2001-01-01",
          "x1": "2009-01-01",
          "xref": "x",
          "y0": 0,
          "y1": 1,
          "yref": "y domain"
         },
         {
          "fillcolor": "SkyBlue",
          "layer": "below",
          "line": {
           "width": 1
          },
          "opacity": 0.5,
          "type": "rect",
          "x0": "2009-01-01",
          "x1": "2017-01-01",
          "xref": "x",
          "y0": 0,
          "y1": 1,
          "yref": "y domain"
         },
         {
          "fillcolor": "LightCoral",
          "layer": "below",
          "line": {
           "width": 1
          },
          "opacity": 0.5,
          "type": "rect",
          "x0": "2017-01-01",
          "x1": "2018-01-01",
          "xref": "x",
          "y0": 0,
          "y1": 1,
          "yref": "y domain"
         }
        ],
        "template": {
         "data": {
          "bar": [
           {
            "error_x": {
             "color": "#2a3f5f"
            },
            "error_y": {
             "color": "#2a3f5f"
            },
            "marker": {
             "line": {
              "color": "#E5ECF6",
              "width": 0.5
             }
            },
            "type": "bar"
           }
          ],
          "barpolar": [
           {
            "marker": {
             "line": {
              "color": "#E5ECF6",
              "width": 0.5
             }
            },
            "type": "barpolar"
           }
          ],
          "carpet": [
           {
            "aaxis": {
             "endlinecolor": "#2a3f5f",
             "gridcolor": "white",
             "linecolor": "white",
             "minorgridcolor": "white",
             "startlinecolor": "#2a3f5f"
            },
            "baxis": {
             "endlinecolor": "#2a3f5f",
             "gridcolor": "white",
             "linecolor": "white",
             "minorgridcolor": "white",
             "startlinecolor": "#2a3f5f"
            },
            "type": "carpet"
           }
          ],
          "choropleth": [
           {
            "colorbar": {
             "outlinewidth": 0,
             "ticks": ""
            },
            "type": "choropleth"
           }
          ],
          "contour": [
           {
            "colorbar": {
             "outlinewidth": 0,
             "ticks": ""
            },
            "colorscale": [
             [
              0,
              "#0d0887"
             ],
             [
              0.1111111111111111,
              "#46039f"
             ],
             [
              0.2222222222222222,
              "#7201a8"
             ],
             [
              0.3333333333333333,
              "#9c179e"
             ],
             [
              0.4444444444444444,
              "#bd3786"
             ],
             [
              0.5555555555555556,
              "#d8576b"
             ],
             [
              0.6666666666666666,
              "#ed7953"
             ],
             [
              0.7777777777777778,
              "#fb9f3a"
             ],
             [
              0.8888888888888888,
              "#fdca26"
             ],
             [
              1,
              "#f0f921"
             ]
            ],
            "type": "contour"
           }
          ],
          "contourcarpet": [
           {
            "colorbar": {
             "outlinewidth": 0,
             "ticks": ""
            },
            "type": "contourcarpet"
           }
          ],
          "heatmap": [
           {
            "colorbar": {
             "outlinewidth": 0,
             "ticks": ""
            },
            "colorscale": [
             [
              0,
              "#0d0887"
             ],
             [
              0.1111111111111111,
              "#46039f"
             ],
             [
              0.2222222222222222,
              "#7201a8"
             ],
             [
              0.3333333333333333,
              "#9c179e"
             ],
             [
              0.4444444444444444,
              "#bd3786"
             ],
             [
              0.5555555555555556,
              "#d8576b"
             ],
             [
              0.6666666666666666,
              "#ed7953"
             ],
             [
              0.7777777777777778,
              "#fb9f3a"
             ],
             [
              0.8888888888888888,
              "#fdca26"
             ],
             [
              1,
              "#f0f921"
             ]
            ],
            "type": "heatmap"
           }
          ],
          "heatmapgl": [
           {
            "colorbar": {
             "outlinewidth": 0,
             "ticks": ""
            },
            "colorscale": [
             [
              0,
              "#0d0887"
             ],
             [
              0.1111111111111111,
              "#46039f"
             ],
             [
              0.2222222222222222,
              "#7201a8"
             ],
             [
              0.3333333333333333,
              "#9c179e"
             ],
             [
              0.4444444444444444,
              "#bd3786"
             ],
             [
              0.5555555555555556,
              "#d8576b"
             ],
             [
              0.6666666666666666,
              "#ed7953"
             ],
             [
              0.7777777777777778,
              "#fb9f3a"
             ],
             [
              0.8888888888888888,
              "#fdca26"
             ],
             [
              1,
              "#f0f921"
             ]
            ],
            "type": "heatmapgl"
           }
          ],
          "histogram": [
           {
            "marker": {
             "colorbar": {
              "outlinewidth": 0,
              "ticks": ""
             }
            },
            "type": "histogram"
           }
          ],
          "histogram2d": [
           {
            "colorbar": {
             "outlinewidth": 0,
             "ticks": ""
            },
            "colorscale": [
             [
              0,
              "#0d0887"
             ],
             [
              0.1111111111111111,
              "#46039f"
             ],
             [
              0.2222222222222222,
              "#7201a8"
             ],
             [
              0.3333333333333333,
              "#9c179e"
             ],
             [
              0.4444444444444444,
              "#bd3786"
             ],
             [
              0.5555555555555556,
              "#d8576b"
             ],
             [
              0.6666666666666666,
              "#ed7953"
             ],
             [
              0.7777777777777778,
              "#fb9f3a"
             ],
             [
              0.8888888888888888,
              "#fdca26"
             ],
             [
              1,
              "#f0f921"
             ]
            ],
            "type": "histogram2d"
           }
          ],
          "histogram2dcontour": [
           {
            "colorbar": {
             "outlinewidth": 0,
             "ticks": ""
            },
            "colorscale": [
             [
              0,
              "#0d0887"
             ],
             [
              0.1111111111111111,
              "#46039f"
             ],
             [
              0.2222222222222222,
              "#7201a8"
             ],
             [
              0.3333333333333333,
              "#9c179e"
             ],
             [
              0.4444444444444444,
              "#bd3786"
             ],
             [
              0.5555555555555556,
              "#d8576b"
             ],
             [
              0.6666666666666666,
              "#ed7953"
             ],
             [
              0.7777777777777778,
              "#fb9f3a"
             ],
             [
              0.8888888888888888,
              "#fdca26"
             ],
             [
              1,
              "#f0f921"
             ]
            ],
            "type": "histogram2dcontour"
           }
          ],
          "mesh3d": [
           {
            "colorbar": {
             "outlinewidth": 0,
             "ticks": ""
            },
            "type": "mesh3d"
           }
          ],
          "parcoords": [
           {
            "line": {
             "colorbar": {
              "outlinewidth": 0,
              "ticks": ""
             }
            },
            "type": "parcoords"
           }
          ],
          "pie": [
           {
            "automargin": true,
            "type": "pie"
           }
          ],
          "scatter": [
           {
            "marker": {
             "colorbar": {
              "outlinewidth": 0,
              "ticks": ""
             }
            },
            "type": "scatter"
           }
          ],
          "scatter3d": [
           {
            "line": {
             "colorbar": {
              "outlinewidth": 0,
              "ticks": ""
             }
            },
            "marker": {
             "colorbar": {
              "outlinewidth": 0,
              "ticks": ""
             }
            },
            "type": "scatter3d"
           }
          ],
          "scattercarpet": [
           {
            "marker": {
             "colorbar": {
              "outlinewidth": 0,
              "ticks": ""
             }
            },
            "type": "scattercarpet"
           }
          ],
          "scattergeo": [
           {
            "marker": {
             "colorbar": {
              "outlinewidth": 0,
              "ticks": ""
             }
            },
            "type": "scattergeo"
           }
          ],
          "scattergl": [
           {
            "marker": {
             "colorbar": {
              "outlinewidth": 0,
              "ticks": ""
             }
            },
            "type": "scattergl"
           }
          ],
          "scattermapbox": [
           {
            "marker": {
             "colorbar": {
              "outlinewidth": 0,
              "ticks": ""
             }
            },
            "type": "scattermapbox"
           }
          ],
          "scatterpolar": [
           {
            "marker": {
             "colorbar": {
              "outlinewidth": 0,
              "ticks": ""
             }
            },
            "type": "scatterpolar"
           }
          ],
          "scatterpolargl": [
           {
            "marker": {
             "colorbar": {
              "outlinewidth": 0,
              "ticks": ""
             }
            },
            "type": "scatterpolargl"
           }
          ],
          "scatterternary": [
           {
            "marker": {
             "colorbar": {
              "outlinewidth": 0,
              "ticks": ""
             }
            },
            "type": "scatterternary"
           }
          ],
          "surface": [
           {
            "colorbar": {
             "outlinewidth": 0,
             "ticks": ""
            },
            "colorscale": [
             [
              0,
              "#0d0887"
             ],
             [
              0.1111111111111111,
              "#46039f"
             ],
             [
              0.2222222222222222,
              "#7201a8"
             ],
             [
              0.3333333333333333,
              "#9c179e"
             ],
             [
              0.4444444444444444,
              "#bd3786"
             ],
             [
              0.5555555555555556,
              "#d8576b"
             ],
             [
              0.6666666666666666,
              "#ed7953"
             ],
             [
              0.7777777777777778,
              "#fb9f3a"
             ],
             [
              0.8888888888888888,
              "#fdca26"
             ],
             [
              1,
              "#f0f921"
             ]
            ],
            "type": "surface"
           }
          ],
          "table": [
           {
            "cells": {
             "fill": {
              "color": "#EBF0F8"
             },
             "line": {
              "color": "white"
             }
            },
            "header": {
             "fill": {
              "color": "#C8D4E3"
             },
             "line": {
              "color": "white"
             }
            },
            "type": "table"
           }
          ]
         },
         "layout": {
          "annotationdefaults": {
           "arrowcolor": "#2a3f5f",
           "arrowhead": 0,
           "arrowwidth": 1
          },
          "autotypenumbers": "strict",
          "coloraxis": {
           "colorbar": {
            "outlinewidth": 0,
            "ticks": ""
           }
          },
          "colorscale": {
           "diverging": [
            [
             0,
             "#8e0152"
            ],
            [
             0.1,
             "#c51b7d"
            ],
            [
             0.2,
             "#de77ae"
            ],
            [
             0.3,
             "#f1b6da"
            ],
            [
             0.4,
             "#fde0ef"
            ],
            [
             0.5,
             "#f7f7f7"
            ],
            [
             0.6,
             "#e6f5d0"
            ],
            [
             0.7,
             "#b8e186"
            ],
            [
             0.8,
             "#7fbc41"
            ],
            [
             0.9,
             "#4d9221"
            ],
            [
             1,
             "#276419"
            ]
           ],
           "sequential": [
            [
             0,
             "#0d0887"
            ],
            [
             0.1111111111111111,
             "#46039f"
            ],
            [
             0.2222222222222222,
             "#7201a8"
            ],
            [
             0.3333333333333333,
             "#9c179e"
            ],
            [
             0.4444444444444444,
             "#bd3786"
            ],
            [
             0.5555555555555556,
             "#d8576b"
            ],
            [
             0.6666666666666666,
             "#ed7953"
            ],
            [
             0.7777777777777778,
             "#fb9f3a"
            ],
            [
             0.8888888888888888,
             "#fdca26"
            ],
            [
             1,
             "#f0f921"
            ]
           ],
           "sequentialminus": [
            [
             0,
             "#0d0887"
            ],
            [
             0.1111111111111111,
             "#46039f"
            ],
            [
             0.2222222222222222,
             "#7201a8"
            ],
            [
             0.3333333333333333,
             "#9c179e"
            ],
            [
             0.4444444444444444,
             "#bd3786"
            ],
            [
             0.5555555555555556,
             "#d8576b"
            ],
            [
             0.6666666666666666,
             "#ed7953"
            ],
            [
             0.7777777777777778,
             "#fb9f3a"
            ],
            [
             0.8888888888888888,
             "#fdca26"
            ],
            [
             1,
             "#f0f921"
            ]
           ]
          },
          "colorway": [
           "#636efa",
           "#EF553B",
           "#00cc96",
           "#ab63fa",
           "#FFA15A",
           "#19d3f3",
           "#FF6692",
           "#B6E880",
           "#FF97FF",
           "#FECB52"
          ],
          "font": {
           "color": "#2a3f5f"
          },
          "geo": {
           "bgcolor": "white",
           "lakecolor": "white",
           "landcolor": "#E5ECF6",
           "showlakes": true,
           "showland": true,
           "subunitcolor": "white"
          },
          "hoverlabel": {
           "align": "left"
          },
          "hovermode": "closest",
          "mapbox": {
           "style": "light"
          },
          "paper_bgcolor": "white",
          "plot_bgcolor": "#E5ECF6",
          "polar": {
           "angularaxis": {
            "gridcolor": "white",
            "linecolor": "white",
            "ticks": ""
           },
           "bgcolor": "#E5ECF6",
           "radialaxis": {
            "gridcolor": "white",
            "linecolor": "white",
            "ticks": ""
           }
          },
          "scene": {
           "xaxis": {
            "backgroundcolor": "#E5ECF6",
            "gridcolor": "white",
            "gridwidth": 2,
            "linecolor": "white",
            "showbackground": true,
            "ticks": "",
            "zerolinecolor": "white"
           },
           "yaxis": {
            "backgroundcolor": "#E5ECF6",
            "gridcolor": "white",
            "gridwidth": 2,
            "linecolor": "white",
            "showbackground": true,
            "ticks": "",
            "zerolinecolor": "white"
           },
           "zaxis": {
            "backgroundcolor": "#E5ECF6",
            "gridcolor": "white",
            "gridwidth": 2,
            "linecolor": "white",
            "showbackground": true,
            "ticks": "",
            "zerolinecolor": "white"
           }
          },
          "shapedefaults": {
           "line": {
            "color": "#2a3f5f"
           }
          },
          "ternary": {
           "aaxis": {
            "gridcolor": "white",
            "linecolor": "white",
            "ticks": ""
           },
           "baxis": {
            "gridcolor": "white",
            "linecolor": "white",
            "ticks": ""
           },
           "bgcolor": "#E5ECF6",
           "caxis": {
            "gridcolor": "white",
            "linecolor": "white",
            "ticks": ""
           }
          },
          "title": {
           "x": 0.05
          },
          "xaxis": {
           "automargin": true,
           "gridcolor": "white",
           "linecolor": "white",
           "ticks": "",
           "title": {
            "standoff": 15
           },
           "zerolinecolor": "white",
           "zerolinewidth": 2
          },
          "yaxis": {
           "automargin": true,
           "gridcolor": "white",
           "linecolor": "white",
           "ticks": "",
           "title": {
            "standoff": 15
           },
           "zerolinecolor": "white",
           "zerolinewidth": 2
          }
         }
        },
        "title": {
         "text": "Total energy consumption in the United States"
        },
        "xaxis": {
         "anchor": "y",
         "domain": [
          0,
          1
         ],
         "range": [
          "1960-01-01",
          "2018-01-01"
         ],
         "rangeselector": {
          "buttons": [
           {
            "count": 58,
            "label": "1960",
            "step": "year",
            "stepmode": "backward"
           },
           {
            "count": 48,
            "label": "1970",
            "step": "year",
            "stepmode": "backward"
           },
           {
            "count": 38,
            "label": "1980",
            "step": "year",
            "stepmode": "backward"
           },
           {
            "count": 28,
            "label": "1990",
            "step": "year",
            "stepmode": "backward"
           },
           {
            "count": 18,
            "label": "2000",
            "step": "year",
            "stepmode": "backward"
           },
           {
            "count": 8,
            "label": "2010",
            "step": "year",
            "stepmode": "backward"
           }
          ]
         },
         "showgrid": false,
         "showspikes": true,
         "ticktext": [
          "John F. Kennedy",
          "Lyndon B. Johnson",
          "Richard Nixon",
          "Gerald Ford",
          "Jimmy Carter",
          "Ronald Reagan",
          "George H.W. Bush",
          "Bill Clinton",
          "George W. Bush",
          "Barack Obama",
          "Donald Trump"
         ],
         "tickvals": [
          "1961-01-01",
          "1963-01-01",
          "1969-01-01",
          "1974-01-01",
          "1977-01-01",
          "1981-01-01",
          "1989-01-01",
          "1993-01-01",
          "2001-01-01",
          "2009-01-01",
          "2017-01-01"
         ],
         "title": {
          "text": "Year"
         },
         "type": "date"
        },
        "yaxis": {
         "anchor": "x",
         "domain": [
          0,
          1
         ],
         "showgrid": false,
         "showspikes": true,
         "title": {
          "text": "Quadrillion BTU"
         }
        }
       }
      },
      "text/html": [
       "<div>                            <div id=\"e8fcfd62-534d-4c8c-888e-a65897617920\" class=\"plotly-graph-div\" style=\"height:500px; width:100%;\"></div>            <script type=\"text/javascript\">                require([\"plotly\"], function(Plotly) {                    window.PLOTLYENV=window.PLOTLYENV || {};                                    if (document.getElementById(\"e8fcfd62-534d-4c8c-888e-a65897617920\")) {                    Plotly.newPlot(                        \"e8fcfd62-534d-4c8c-888e-a65897617920\",                        [{\"hovertemplate\": \"<b>%{hovertext}</b><br><br>Year=%{x}<br>Quadrillion BTU=%{y}<extra></extra>\", \"hovertext\": [1960.0, 1961.0, 1962.0, 1963.0, 1964.0, 1965.0, 1966.0, 1967.0, 1968.0, 1969.0, 1970.0, 1971.0, 1972.0, 1973.0, 1974.0, 1975.0, 1976.0, 1977.0, 1978.0, 1979.0, 1980.0, 1981.0, 1982.0, 1983.0, 1984.0, 1985.0, 1986.0, 1987.0, 1988.0, 1989.0, 1990.0, 1991.0, 1992.0, 1993.0, 1994.0, 1995.0, 1996.0, 1997.0, 1998.0, 1999.0, 2000.0, 2001.0, 2002.0, 2003.0, 2004.0, 2005.0, 2006.0, 2007.0, 2008.0, 2009.0, 2010.0, 2011.0, 2012.0, 2013.0, 2014.0, 2015.0, 2016.0, 2017.0, 2018.0], \"legendgroup\": \"\", \"line\": {\"color\": \"black\", \"dash\": \"solid\"}, \"mode\": \"lines\", \"name\": \"\", \"orientation\": \"v\", \"showlegend\": false, \"type\": \"scatter\", \"x\": [1960, 1961, 1962, 1963, 1964, 1965, 1966, 1967, 1968, 1969, 1970, 1971, 1972, 1973, 1974, 1975, 1976, 1977, 1978, 1979, 1980, 1981, 1982, 1983, 1984, 1985, 1986, 1987, 1988, 1989, 1990, 1991, 1992, 1993, 1994, 1995, 1996, 1997, 1998, 1999, 2000, 2001, 2002, 2003, 2004, 2005, 2006, 2007, 2008, 2009, 2010, 2011, 2012, 2013, 2014, 2015, 2016, 2017, 2018], \"xaxis\": \"x\", \"y\": [45.033606, 45.684153, 47.773067, 49.60563, 51.766732, 53.965864, 56.960904, 58.91687, 62.401694, 65.57892, 67.720114, 69.163993, 72.677208, 75.723857, 73.914525, 71.953031, 75.966653, 77.946963, 79.978066, 80.835915, 78.047519, 76.093624, 73.006067, 72.879382, 76.510942, 76.406632, 76.592009, 78.960216, 82.711222, 84.731901, 84.45529, 84.379011, 85.731655, 87.294876, 89.010843, 90.994772, 94.005089, 94.656462, 94.933435, 96.525795, 98.694694, 96.03923, 97.542436, 97.834861, 100.013808, 100.109417, 99.387992, 100.916033, 98.764639, 93.969365, 97.516156, 96.854306, 94.369517, 97.101796, 98.269642, 97.366585, 97.30083, 97.613024, 101.083621], \"yaxis\": \"y\"}],                        {\"coloraxis\": {\"colorbar\": {\"title\": {\"text\": \"Million BTU per capita\"}}}, \"height\": 500, \"hovermode\": \"x\", \"legend\": {\"tracegroupgap\": 0}, \"shapes\": [{\"fillcolor\": \"LightCoral\", \"layer\": \"below\", \"line\": {\"width\": 1}, \"opacity\": 0.5, \"type\": \"rect\", \"x0\": \"1960-01-01\", \"x1\": \"1961-01-01\", \"xref\": \"x\", \"y0\": 0, \"y1\": 1, \"yref\": \"y domain\"}, {\"fillcolor\": \"SkyBlue\", \"layer\": \"below\", \"line\": {\"width\": 1}, \"opacity\": 0.5, \"type\": \"rect\", \"x0\": \"1961-01-01\", \"x1\": \"1963-01-01\", \"xref\": \"x\", \"y0\": 0, \"y1\": 1, \"yref\": \"y domain\"}, {\"fillcolor\": \"SkyBlue\", \"layer\": \"below\", \"line\": {\"width\": 1}, \"opacity\": 0.5, \"type\": \"rect\", \"x0\": \"1963-01-01\", \"x1\": \"1969-01-01\", \"xref\": \"x\", \"y0\": 0, \"y1\": 1, \"yref\": \"y domain\"}, {\"fillcolor\": \"LightCoral\", \"layer\": \"below\", \"line\": {\"width\": 1}, \"opacity\": 0.5, \"type\": \"rect\", \"x0\": \"1969-01-01\", \"x1\": \"1974-01-01\", \"xref\": \"x\", \"y0\": 0, \"y1\": 1, \"yref\": \"y domain\"}, {\"fillcolor\": \"LightCoral\", \"layer\": \"below\", \"line\": {\"width\": 1}, \"opacity\": 0.5, \"type\": \"rect\", \"x0\": \"1974-01-01\", \"x1\": \"1977-01-01\", \"xref\": \"x\", \"y0\": 0, \"y1\": 1, \"yref\": \"y domain\"}, {\"fillcolor\": \"SkyBlue\", \"layer\": \"below\", \"line\": {\"width\": 1}, \"opacity\": 0.5, \"type\": \"rect\", \"x0\": \"1977-01-01\", \"x1\": \"1981-01-01\", \"xref\": \"x\", \"y0\": 0, \"y1\": 1, \"yref\": \"y domain\"}, {\"fillcolor\": \"LightCoral\", \"layer\": \"below\", \"line\": {\"width\": 1}, \"opacity\": 0.5, \"type\": \"rect\", \"x0\": \"1981-01-01\", \"x1\": \"1989-01-01\", \"xref\": \"x\", \"y0\": 0, \"y1\": 1, \"yref\": \"y domain\"}, {\"fillcolor\": \"LightCoral\", \"layer\": \"below\", \"line\": {\"width\": 1}, \"opacity\": 0.5, \"type\": \"rect\", \"x0\": \"1989-01-01\", \"x1\": \"1993-01-01\", \"xref\": \"x\", \"y0\": 0, \"y1\": 1, \"yref\": \"y domain\"}, {\"fillcolor\": \"SkyBlue\", \"layer\": \"below\", \"line\": {\"width\": 1}, \"opacity\": 0.5, \"type\": \"rect\", \"x0\": \"1993-01-01\", \"x1\": \"2001-01-01\", \"xref\": \"x\", \"y0\": 0, \"y1\": 1, \"yref\": \"y domain\"}, {\"fillcolor\": \"LightCoral\", \"layer\": \"below\", \"line\": {\"width\": 1}, \"opacity\": 0.5, \"type\": \"rect\", \"x0\": \"2001-01-01\", \"x1\": \"2009-01-01\", \"xref\": \"x\", \"y0\": 0, \"y1\": 1, \"yref\": \"y domain\"}, {\"fillcolor\": \"SkyBlue\", \"layer\": \"below\", \"line\": {\"width\": 1}, \"opacity\": 0.5, \"type\": \"rect\", \"x0\": \"2009-01-01\", \"x1\": \"2017-01-01\", \"xref\": \"x\", \"y0\": 0, \"y1\": 1, \"yref\": \"y domain\"}, {\"fillcolor\": \"LightCoral\", \"layer\": \"below\", \"line\": {\"width\": 1}, \"opacity\": 0.5, \"type\": \"rect\", \"x0\": \"2017-01-01\", \"x1\": \"2018-01-01\", \"xref\": \"x\", \"y0\": 0, \"y1\": 1, \"yref\": \"y domain\"}], \"template\": {\"data\": {\"bar\": [{\"error_x\": {\"color\": \"#2a3f5f\"}, \"error_y\": {\"color\": \"#2a3f5f\"}, \"marker\": {\"line\": {\"color\": \"#E5ECF6\", \"width\": 0.5}}, \"type\": \"bar\"}], \"barpolar\": [{\"marker\": {\"line\": {\"color\": \"#E5ECF6\", \"width\": 0.5}}, \"type\": \"barpolar\"}], \"carpet\": [{\"aaxis\": {\"endlinecolor\": \"#2a3f5f\", \"gridcolor\": \"white\", \"linecolor\": \"white\", \"minorgridcolor\": \"white\", \"startlinecolor\": \"#2a3f5f\"}, \"baxis\": {\"endlinecolor\": \"#2a3f5f\", \"gridcolor\": \"white\", \"linecolor\": \"white\", \"minorgridcolor\": \"white\", \"startlinecolor\": \"#2a3f5f\"}, \"type\": \"carpet\"}], \"choropleth\": [{\"colorbar\": {\"outlinewidth\": 0, \"ticks\": \"\"}, \"type\": \"choropleth\"}], \"contour\": [{\"colorbar\": {\"outlinewidth\": 0, \"ticks\": \"\"}, \"colorscale\": [[0.0, \"#0d0887\"], [0.1111111111111111, \"#46039f\"], [0.2222222222222222, \"#7201a8\"], [0.3333333333333333, \"#9c179e\"], [0.4444444444444444, \"#bd3786\"], [0.5555555555555556, \"#d8576b\"], [0.6666666666666666, \"#ed7953\"], [0.7777777777777778, \"#fb9f3a\"], [0.8888888888888888, \"#fdca26\"], [1.0, \"#f0f921\"]], \"type\": \"contour\"}], \"contourcarpet\": [{\"colorbar\": {\"outlinewidth\": 0, \"ticks\": \"\"}, \"type\": \"contourcarpet\"}], \"heatmap\": [{\"colorbar\": {\"outlinewidth\": 0, \"ticks\": \"\"}, \"colorscale\": [[0.0, \"#0d0887\"], [0.1111111111111111, \"#46039f\"], [0.2222222222222222, \"#7201a8\"], [0.3333333333333333, \"#9c179e\"], [0.4444444444444444, \"#bd3786\"], [0.5555555555555556, \"#d8576b\"], [0.6666666666666666, \"#ed7953\"], [0.7777777777777778, \"#fb9f3a\"], [0.8888888888888888, \"#fdca26\"], [1.0, \"#f0f921\"]], \"type\": \"heatmap\"}], \"heatmapgl\": [{\"colorbar\": {\"outlinewidth\": 0, \"ticks\": \"\"}, \"colorscale\": [[0.0, \"#0d0887\"], [0.1111111111111111, \"#46039f\"], [0.2222222222222222, \"#7201a8\"], [0.3333333333333333, \"#9c179e\"], [0.4444444444444444, \"#bd3786\"], [0.5555555555555556, \"#d8576b\"], [0.6666666666666666, \"#ed7953\"], [0.7777777777777778, \"#fb9f3a\"], [0.8888888888888888, \"#fdca26\"], [1.0, \"#f0f921\"]], \"type\": \"heatmapgl\"}], \"histogram\": [{\"marker\": {\"colorbar\": {\"outlinewidth\": 0, \"ticks\": \"\"}}, \"type\": \"histogram\"}], \"histogram2d\": [{\"colorbar\": {\"outlinewidth\": 0, \"ticks\": \"\"}, \"colorscale\": [[0.0, \"#0d0887\"], [0.1111111111111111, \"#46039f\"], [0.2222222222222222, \"#7201a8\"], [0.3333333333333333, \"#9c179e\"], [0.4444444444444444, \"#bd3786\"], [0.5555555555555556, \"#d8576b\"], [0.6666666666666666, \"#ed7953\"], [0.7777777777777778, \"#fb9f3a\"], [0.8888888888888888, \"#fdca26\"], [1.0, \"#f0f921\"]], \"type\": \"histogram2d\"}], \"histogram2dcontour\": [{\"colorbar\": {\"outlinewidth\": 0, \"ticks\": \"\"}, \"colorscale\": [[0.0, \"#0d0887\"], [0.1111111111111111, \"#46039f\"], [0.2222222222222222, \"#7201a8\"], [0.3333333333333333, \"#9c179e\"], [0.4444444444444444, \"#bd3786\"], [0.5555555555555556, \"#d8576b\"], [0.6666666666666666, \"#ed7953\"], [0.7777777777777778, \"#fb9f3a\"], [0.8888888888888888, \"#fdca26\"], [1.0, \"#f0f921\"]], \"type\": \"histogram2dcontour\"}], \"mesh3d\": [{\"colorbar\": {\"outlinewidth\": 0, \"ticks\": \"\"}, \"type\": \"mesh3d\"}], \"parcoords\": [{\"line\": {\"colorbar\": {\"outlinewidth\": 0, \"ticks\": \"\"}}, \"type\": \"parcoords\"}], \"pie\": [{\"automargin\": true, \"type\": \"pie\"}], \"scatter\": [{\"marker\": {\"colorbar\": {\"outlinewidth\": 0, \"ticks\": \"\"}}, \"type\": \"scatter\"}], \"scatter3d\": [{\"line\": {\"colorbar\": {\"outlinewidth\": 0, \"ticks\": \"\"}}, \"marker\": {\"colorbar\": {\"outlinewidth\": 0, \"ticks\": \"\"}}, \"type\": \"scatter3d\"}], \"scattercarpet\": [{\"marker\": {\"colorbar\": {\"outlinewidth\": 0, \"ticks\": \"\"}}, \"type\": \"scattercarpet\"}], \"scattergeo\": [{\"marker\": {\"colorbar\": {\"outlinewidth\": 0, \"ticks\": \"\"}}, \"type\": \"scattergeo\"}], \"scattergl\": [{\"marker\": {\"colorbar\": {\"outlinewidth\": 0, \"ticks\": \"\"}}, \"type\": \"scattergl\"}], \"scattermapbox\": [{\"marker\": {\"colorbar\": {\"outlinewidth\": 0, \"ticks\": \"\"}}, \"type\": \"scattermapbox\"}], \"scatterpolar\": [{\"marker\": {\"colorbar\": {\"outlinewidth\": 0, \"ticks\": \"\"}}, \"type\": \"scatterpolar\"}], \"scatterpolargl\": [{\"marker\": {\"colorbar\": {\"outlinewidth\": 0, \"ticks\": \"\"}}, \"type\": \"scatterpolargl\"}], \"scatterternary\": [{\"marker\": {\"colorbar\": {\"outlinewidth\": 0, \"ticks\": \"\"}}, \"type\": \"scatterternary\"}], \"surface\": [{\"colorbar\": {\"outlinewidth\": 0, \"ticks\": \"\"}, \"colorscale\": [[0.0, \"#0d0887\"], [0.1111111111111111, \"#46039f\"], [0.2222222222222222, \"#7201a8\"], [0.3333333333333333, \"#9c179e\"], [0.4444444444444444, \"#bd3786\"], [0.5555555555555556, \"#d8576b\"], [0.6666666666666666, \"#ed7953\"], [0.7777777777777778, \"#fb9f3a\"], [0.8888888888888888, \"#fdca26\"], [1.0, \"#f0f921\"]], \"type\": \"surface\"}], \"table\": [{\"cells\": {\"fill\": {\"color\": \"#EBF0F8\"}, \"line\": {\"color\": \"white\"}}, \"header\": {\"fill\": {\"color\": \"#C8D4E3\"}, \"line\": {\"color\": \"white\"}}, \"type\": \"table\"}]}, \"layout\": {\"annotationdefaults\": {\"arrowcolor\": \"#2a3f5f\", \"arrowhead\": 0, \"arrowwidth\": 1}, \"autotypenumbers\": \"strict\", \"coloraxis\": {\"colorbar\": {\"outlinewidth\": 0, \"ticks\": \"\"}}, \"colorscale\": {\"diverging\": [[0, \"#8e0152\"], [0.1, \"#c51b7d\"], [0.2, \"#de77ae\"], [0.3, \"#f1b6da\"], [0.4, \"#fde0ef\"], [0.5, \"#f7f7f7\"], [0.6, \"#e6f5d0\"], [0.7, \"#b8e186\"], [0.8, \"#7fbc41\"], [0.9, \"#4d9221\"], [1, \"#276419\"]], \"sequential\": [[0.0, \"#0d0887\"], [0.1111111111111111, \"#46039f\"], [0.2222222222222222, \"#7201a8\"], [0.3333333333333333, \"#9c179e\"], [0.4444444444444444, \"#bd3786\"], [0.5555555555555556, \"#d8576b\"], [0.6666666666666666, \"#ed7953\"], [0.7777777777777778, \"#fb9f3a\"], [0.8888888888888888, \"#fdca26\"], [1.0, \"#f0f921\"]], \"sequentialminus\": [[0.0, \"#0d0887\"], [0.1111111111111111, \"#46039f\"], [0.2222222222222222, \"#7201a8\"], [0.3333333333333333, \"#9c179e\"], [0.4444444444444444, \"#bd3786\"], [0.5555555555555556, \"#d8576b\"], [0.6666666666666666, \"#ed7953\"], [0.7777777777777778, \"#fb9f3a\"], [0.8888888888888888, \"#fdca26\"], [1.0, \"#f0f921\"]]}, \"colorway\": [\"#636efa\", \"#EF553B\", \"#00cc96\", \"#ab63fa\", \"#FFA15A\", \"#19d3f3\", \"#FF6692\", \"#B6E880\", \"#FF97FF\", \"#FECB52\"], \"font\": {\"color\": \"#2a3f5f\"}, \"geo\": {\"bgcolor\": \"white\", \"lakecolor\": \"white\", \"landcolor\": \"#E5ECF6\", \"showlakes\": true, \"showland\": true, \"subunitcolor\": \"white\"}, \"hoverlabel\": {\"align\": \"left\"}, \"hovermode\": \"closest\", \"mapbox\": {\"style\": \"light\"}, \"paper_bgcolor\": \"white\", \"plot_bgcolor\": \"#E5ECF6\", \"polar\": {\"angularaxis\": {\"gridcolor\": \"white\", \"linecolor\": \"white\", \"ticks\": \"\"}, \"bgcolor\": \"#E5ECF6\", \"radialaxis\": {\"gridcolor\": \"white\", \"linecolor\": \"white\", \"ticks\": \"\"}}, \"scene\": {\"xaxis\": {\"backgroundcolor\": \"#E5ECF6\", \"gridcolor\": \"white\", \"gridwidth\": 2, \"linecolor\": \"white\", \"showbackground\": true, \"ticks\": \"\", \"zerolinecolor\": \"white\"}, \"yaxis\": {\"backgroundcolor\": \"#E5ECF6\", \"gridcolor\": \"white\", \"gridwidth\": 2, \"linecolor\": \"white\", \"showbackground\": true, \"ticks\": \"\", \"zerolinecolor\": \"white\"}, \"zaxis\": {\"backgroundcolor\": \"#E5ECF6\", \"gridcolor\": \"white\", \"gridwidth\": 2, \"linecolor\": \"white\", \"showbackground\": true, \"ticks\": \"\", \"zerolinecolor\": \"white\"}}, \"shapedefaults\": {\"line\": {\"color\": \"#2a3f5f\"}}, \"ternary\": {\"aaxis\": {\"gridcolor\": \"white\", \"linecolor\": \"white\", \"ticks\": \"\"}, \"baxis\": {\"gridcolor\": \"white\", \"linecolor\": \"white\", \"ticks\": \"\"}, \"bgcolor\": \"#E5ECF6\", \"caxis\": {\"gridcolor\": \"white\", \"linecolor\": \"white\", \"ticks\": \"\"}}, \"title\": {\"x\": 0.05}, \"xaxis\": {\"automargin\": true, \"gridcolor\": \"white\", \"linecolor\": \"white\", \"ticks\": \"\", \"title\": {\"standoff\": 15}, \"zerolinecolor\": \"white\", \"zerolinewidth\": 2}, \"yaxis\": {\"automargin\": true, \"gridcolor\": \"white\", \"linecolor\": \"white\", \"ticks\": \"\", \"title\": {\"standoff\": 15}, \"zerolinecolor\": \"white\", \"zerolinewidth\": 2}}}, \"title\": {\"text\": \"Total energy consumption in the United States\"}, \"xaxis\": {\"anchor\": \"y\", \"domain\": [0.0, 1.0], \"range\": [\"1960-01-01\", \"2018-01-01\"], \"rangeselector\": {\"buttons\": [{\"count\": 58, \"label\": \"1960\", \"step\": \"year\", \"stepmode\": \"backward\"}, {\"count\": 48, \"label\": \"1970\", \"step\": \"year\", \"stepmode\": \"backward\"}, {\"count\": 38, \"label\": \"1980\", \"step\": \"year\", \"stepmode\": \"backward\"}, {\"count\": 28, \"label\": \"1990\", \"step\": \"year\", \"stepmode\": \"backward\"}, {\"count\": 18, \"label\": \"2000\", \"step\": \"year\", \"stepmode\": \"backward\"}, {\"count\": 8, \"label\": \"2010\", \"step\": \"year\", \"stepmode\": \"backward\"}]}, \"showgrid\": false, \"showspikes\": true, \"ticktext\": [\"John F. Kennedy\", \"Lyndon B. Johnson\", \"Richard Nixon\", \"Gerald Ford\", \"Jimmy Carter\", \"Ronald Reagan\", \"George H.W. Bush\", \"Bill Clinton\", \"George W. Bush\", \"Barack Obama\", \"Donald Trump\"], \"tickvals\": [\"1961-01-01\", \"1963-01-01\", \"1969-01-01\", \"1974-01-01\", \"1977-01-01\", \"1981-01-01\", \"1989-01-01\", \"1993-01-01\", \"2001-01-01\", \"2009-01-01\", \"2017-01-01\"], \"title\": {\"text\": \"Year\"}, \"type\": \"date\"}, \"yaxis\": {\"anchor\": \"x\", \"domain\": [0.0, 1.0], \"showgrid\": false, \"showspikes\": true, \"title\": {\"text\": \"Quadrillion BTU\"}}},                        {\"responsive\": true}                    ).then(function(){\n",
       "                            \n",
       "var gd = document.getElementById('e8fcfd62-534d-4c8c-888e-a65897617920');\n",
       "var x = new MutationObserver(function (mutations, observer) {{\n",
       "        var display = window.getComputedStyle(gd).display;\n",
       "        if (!display || display === 'none') {{\n",
       "            console.log([gd, 'removed!']);\n",
       "            Plotly.purge(gd);\n",
       "            observer.disconnect();\n",
       "        }}\n",
       "}});\n",
       "\n",
       "// Listen for the removal of the full notebook cells\n",
       "var notebookContainer = gd.closest('#notebook-container');\n",
       "if (notebookContainer) {{\n",
       "    x.observe(notebookContainer, {childList: true});\n",
       "}}\n",
       "\n",
       "// Listen for the clearing of the current output cell\n",
       "var outputEl = gd.closest('.output');\n",
       "if (outputEl) {{\n",
       "    x.observe(outputEl, {childList: true});\n",
       "}}\n",
       "\n",
       "                        })                };                });            </script>        </div>"
      ]
     },
     "metadata": {},
     "output_type": "display_data"
    }
   ],
   "source": [
    "total_consumption_df[\"BTU\"] = total_consumption_df[\"BTU\"]/1_000_000\n",
    "total_consumption_df = total_consumption_df.rename(columns={\"BTU\": \"Quadrillion BTU\"})\n",
    "per_cap_df = per_cap_df.rename(columns={\"BTU\": \"Million BTU\"})\n",
    "\n",
    "marker_size = (per_cap_df[\"Million BTU\"]/per_cap_df[\"Million BTU\"].max())**5\n",
    "per_cap_unit = per_cap_df[\"Unit\"].unique()[0]\n",
    "\n",
    "fig = px.line(\n",
    "    total_consumption_df, \n",
    "    x=\"Year\",\n",
    "    y=\"Quadrillion BTU\", \n",
    "#     size=marker_size,\n",
    "#     color_continuous_scale=px.colors.diverging.RdYlGn[::-1],\n",
    "    hover_name=\"Year\",\n",
    "    range_x=[datetime.date(1960, 1, 1), datetime.date(2018, 1, 1)],\n",
    "    height=500,\n",
    "    title=\"Total energy consumption in the United States\",\n",
    "    color_discrete_sequence=[\"black\"]\n",
    ")\n",
    "fig.update_layout(\n",
    "    xaxis=dict(\n",
    "        rangeselector=dict(\n",
    "            buttons=list([\n",
    "                dict(count=58,\n",
    "                     label=\"1960\",\n",
    "                     step=\"year\",\n",
    "                     stepmode=\"backward\"),\n",
    "                dict(count=48,\n",
    "                     label=\"1970\",\n",
    "                     step=\"year\",\n",
    "                     stepmode=\"backward\"),\n",
    "                dict(count=38,\n",
    "                     label=\"1980\",\n",
    "                     step=\"year\",\n",
    "                     stepmode=\"backward\"),\n",
    "                dict(count=28,\n",
    "                     label=\"1990\",\n",
    "                     step=\"year\",\n",
    "                     stepmode=\"backward\"),\n",
    "                dict(count=18,\n",
    "                     label=\"2000\",\n",
    "                     step=\"year\",\n",
    "                     stepmode=\"backward\"),\n",
    "                dict(count=8,\n",
    "                     label=\"2010\",\n",
    "                     step=\"year\",\n",
    "                     stepmode=\"backward\"),\n",
    "            ])\n",
    "        ),\n",
    "        type=\"date\"\n",
    "    )\n",
    ")\n",
    "fig.update_xaxes(showspikes=True, showgrid=False)\n",
    "fig.update_yaxes(showspikes=True, showgrid=False)\n",
    "fig.update_layout(hovermode=\"x\")\n",
    "fig.update_layout(\n",
    "    coloraxis_colorbar=dict(\n",
    "        title=\"Million BTU per capita\",\n",
    "    )\n",
    ")\n",
    "# fig.add_shape(type=\"rect\",\n",
    "#     xref=\"x\", yref=\"y\",\n",
    "#     x0=\"2000-01-01\", y0=0,\n",
    "#     x1=\"2010-01-01\", y1=100,\n",
    "#     line=dict(\n",
    "#         color=\"RoyalBlue\",\n",
    "#         width=3,\n",
    "#     ),\n",
    "#     fillcolor=\"LightSkyBlue\",\n",
    "# )\n",
    "fig.add_vrect(\n",
    "    x0=\"1960-01-01\", x1=\"1961-01-01\",\n",
    "    fillcolor=\"LightCoral\", opacity=0.5,\n",
    "    layer=\"below\", line_width=1,\n",
    "),\n",
    "fig.add_vrect(\n",
    "    x0=\"1961-01-01\", x1=\"1963-01-01\",\n",
    "    fillcolor=\"SkyBlue\", opacity=0.5,\n",
    "    layer=\"below\", line_width=1,\n",
    "),\n",
    "fig.add_vrect(\n",
    "    x0=\"1963-01-01\", x1=\"1969-01-01\",\n",
    "    fillcolor=\"SkyBlue\", opacity=0.5,\n",
    "    layer=\"below\", line_width=1,\n",
    "),\n",
    "fig.add_vrect(\n",
    "    x0=\"1969-01-01\", x1=\"1974-01-01\",\n",
    "    fillcolor=\"LightCoral\", opacity=0.5,\n",
    "    layer=\"below\", line_width=1,\n",
    "),\n",
    "fig.add_vrect(\n",
    "    x0=\"1974-01-01\", x1=\"1977-01-01\",\n",
    "    fillcolor=\"LightCoral\", opacity=0.5,\n",
    "    layer=\"below\", line_width=1,\n",
    "),\n",
    "fig.add_vrect(\n",
    "    x0=\"1977-01-01\", x1=\"1981-01-01\",\n",
    "    fillcolor=\"SkyBlue\", opacity=0.5,\n",
    "    layer=\"below\", line_width=1,\n",
    "),\n",
    "fig.add_vrect(\n",
    "    x0=\"1981-01-01\", x1=\"1989-01-01\",\n",
    "    fillcolor=\"LightCoral\", opacity=0.5,\n",
    "    layer=\"below\", line_width=1,\n",
    "),\n",
    "fig.add_vrect(\n",
    "    x0=\"1989-01-01\", x1=\"1993-01-01\",\n",
    "    fillcolor=\"LightCoral\", opacity=0.5,\n",
    "    layer=\"below\", line_width=1,\n",
    "),\n",
    "fig.add_vrect(\n",
    "    x0=\"1993-01-01\", x1=\"2001-01-01\",\n",
    "    fillcolor=\"SkyBlue\", opacity=0.5,\n",
    "    layer=\"below\", line_width=1,\n",
    ")\n",
    "fig.add_vrect(\n",
    "    x0=\"2001-01-01\", x1=\"2009-01-01\",\n",
    "    fillcolor=\"LightCoral\", opacity=0.5,\n",
    "    layer=\"below\", line_width=1,\n",
    ")\n",
    "fig.add_vrect(\n",
    "    x0=\"2009-01-01\", x1=\"2017-01-01\",\n",
    "    fillcolor=\"SkyBlue\", opacity=0.5,\n",
    "    layer=\"below\", line_width=1,\n",
    ")\n",
    "fig.add_vrect(\n",
    "    x0=\"2017-01-01\", x1=\"2018-01-01\",\n",
    "    fillcolor=\"LightCoral\", opacity=0.5,\n",
    "    layer=\"below\", line_width=1,\n",
    ")\n",
    "\n",
    "fig.update_xaxes(\n",
    "    ticktext=[\"John F. Kennedy\", \"Lyndon B. Johnson\",\"Richard Nixon\",\"Gerald Ford\",\"Jimmy Carter\",\"Ronald Reagan\",\"George H.W. Bush\",\"Bill Clinton\",\"George W. Bush\",\"Barack Obama\",\"Donald Trump\",],\n",
    "    tickvals=[\"1961-01-01\", \"1963-01-01\", \"1969-01-01\", \"1974-01-01\", \"1977-01-01\", \"1981-01-01\", \"1989-01-01\", \"1993-01-01\", \"2001-01-01\", \"2009-01-01\", \"2017-01-01\"],\n",
    ")\n",
    "fig.show()"
   ]
  },
  {
   "cell_type": "code",
   "execution_count": 286,
   "metadata": {},
   "outputs": [],
   "source": [
    "# total_df = dp.data_subset(df, states=[\"United States\"], sources=[\"Renewable energy\", \"Fossil fuels\", \"Nuclear electric power\"])\n",
    "# test_df = total_df[total_df[\"Source\"].isin([\"Renewable energy\", \"Fossil fuels\", \"Nuclear electric power\"])]\n",
    "# test_df = test_df.groupby(\"Year\", as_index=False).sum()\n",
    "# print(f\"{test_df[test_df['Year'] == '2018']['BTU'][58]:,}\")"
   ]
  },
  {
   "cell_type": "code",
   "execution_count": 287,
   "metadata": {},
   "outputs": [],
   "source": [
    "# total_df = dp.data_subset(df, states=[\"United States\"])\n",
    "# total_df[total_df[\"Source\"].isin([\"Fossil fuels\"])]"
   ]
  },
  {
   "cell_type": "code",
   "execution_count": 288,
   "metadata": {},
   "outputs": [
    {
     "data": {
      "text/html": [
       "<div>\n",
       "<style scoped>\n",
       "    .dataframe tbody tr th:only-of-type {\n",
       "        vertical-align: middle;\n",
       "    }\n",
       "\n",
       "    .dataframe tbody tr th {\n",
       "        vertical-align: top;\n",
       "    }\n",
       "\n",
       "    .dataframe thead th {\n",
       "        text-align: right;\n",
       "    }\n",
       "</style>\n",
       "<table border=\"1\" class=\"dataframe\">\n",
       "  <thead>\n",
       "    <tr style=\"text-align: right;\">\n",
       "      <th></th>\n",
       "      <th>State</th>\n",
       "      <th>Source</th>\n",
       "      <th>Sector</th>\n",
       "      <th>Unit</th>\n",
       "      <th>Year</th>\n",
       "      <th>BTU</th>\n",
       "    </tr>\n",
       "  </thead>\n",
       "  <tbody>\n",
       "    <tr>\n",
       "      <th>6682</th>\n",
       "      <td>United States</td>\n",
       "      <td>Fossil fuels</td>\n",
       "      <td>Total</td>\n",
       "      <td>Billion BTU</td>\n",
       "      <td>1960</td>\n",
       "      <td>42083902.0</td>\n",
       "    </tr>\n",
       "    <tr>\n",
       "      <th>6731</th>\n",
       "      <td>United States</td>\n",
       "      <td>Nuclear electric power</td>\n",
       "      <td>Total</td>\n",
       "      <td>Billion BTU</td>\n",
       "      <td>1960</td>\n",
       "      <td>6026.0</td>\n",
       "    </tr>\n",
       "    <tr>\n",
       "      <th>6755</th>\n",
       "      <td>United States</td>\n",
       "      <td>Renewable energy</td>\n",
       "      <td>Total</td>\n",
       "      <td>Billion BTU</td>\n",
       "      <td>1960</td>\n",
       "      <td>2928205.0</td>\n",
       "    </tr>\n",
       "    <tr>\n",
       "      <th>14534</th>\n",
       "      <td>United States</td>\n",
       "      <td>Fossil fuels</td>\n",
       "      <td>Total</td>\n",
       "      <td>Billion BTU</td>\n",
       "      <td>1961</td>\n",
       "      <td>42704559.0</td>\n",
       "    </tr>\n",
       "    <tr>\n",
       "      <th>14583</th>\n",
       "      <td>United States</td>\n",
       "      <td>Nuclear electric power</td>\n",
       "      <td>Total</td>\n",
       "      <td>Billion BTU</td>\n",
       "      <td>1961</td>\n",
       "      <td>19678.0</td>\n",
       "    </tr>\n",
       "    <tr>\n",
       "      <th>...</th>\n",
       "      <td>...</td>\n",
       "      <td>...</td>\n",
       "      <td>...</td>\n",
       "      <td>...</td>\n",
       "      <td>...</td>\n",
       "      <td>...</td>\n",
       "    </tr>\n",
       "    <tr>\n",
       "      <th>454295</th>\n",
       "      <td>United States</td>\n",
       "      <td>Nuclear electric power</td>\n",
       "      <td>Total</td>\n",
       "      <td>Billion BTU</td>\n",
       "      <td>2017</td>\n",
       "      <td>8418968.0</td>\n",
       "    </tr>\n",
       "    <tr>\n",
       "      <th>454319</th>\n",
       "      <td>United States</td>\n",
       "      <td>Renewable energy</td>\n",
       "      <td>Total</td>\n",
       "      <td>Billion BTU</td>\n",
       "      <td>2017</td>\n",
       "      <td>11046868.0</td>\n",
       "    </tr>\n",
       "    <tr>\n",
       "      <th>462098</th>\n",
       "      <td>United States</td>\n",
       "      <td>Fossil fuels</td>\n",
       "      <td>Total</td>\n",
       "      <td>Billion BTU</td>\n",
       "      <td>2018</td>\n",
       "      <td>81212261.0</td>\n",
       "    </tr>\n",
       "    <tr>\n",
       "      <th>462147</th>\n",
       "      <td>United States</td>\n",
       "      <td>Nuclear electric power</td>\n",
       "      <td>Total</td>\n",
       "      <td>Billion BTU</td>\n",
       "      <td>2018</td>\n",
       "      <td>8438068.0</td>\n",
       "    </tr>\n",
       "    <tr>\n",
       "      <th>462171</th>\n",
       "      <td>United States</td>\n",
       "      <td>Renewable energy</td>\n",
       "      <td>Total</td>\n",
       "      <td>Billion BTU</td>\n",
       "      <td>2018</td>\n",
       "      <td>11281563.0</td>\n",
       "    </tr>\n",
       "  </tbody>\n",
       "</table>\n",
       "<p>177 rows × 6 columns</p>\n",
       "</div>"
      ],
      "text/plain": [
       "                State                  Source Sector         Unit  Year  \\\n",
       "6682    United States            Fossil fuels  Total  Billion BTU  1960   \n",
       "6731    United States  Nuclear electric power  Total  Billion BTU  1960   \n",
       "6755    United States        Renewable energy  Total  Billion BTU  1960   \n",
       "14534   United States            Fossil fuels  Total  Billion BTU  1961   \n",
       "14583   United States  Nuclear electric power  Total  Billion BTU  1961   \n",
       "...               ...                     ...    ...          ...   ...   \n",
       "454295  United States  Nuclear electric power  Total  Billion BTU  2017   \n",
       "454319  United States        Renewable energy  Total  Billion BTU  2017   \n",
       "462098  United States            Fossil fuels  Total  Billion BTU  2018   \n",
       "462147  United States  Nuclear electric power  Total  Billion BTU  2018   \n",
       "462171  United States        Renewable energy  Total  Billion BTU  2018   \n",
       "\n",
       "               BTU  \n",
       "6682    42083902.0  \n",
       "6731        6026.0  \n",
       "6755     2928205.0  \n",
       "14534   42704559.0  \n",
       "14583      19678.0  \n",
       "...            ...  \n",
       "454295   8418968.0  \n",
       "454319  11046868.0  \n",
       "462098  81212261.0  \n",
       "462147   8438068.0  \n",
       "462171  11281563.0  \n",
       "\n",
       "[177 rows x 6 columns]"
      ]
     },
     "execution_count": 288,
     "metadata": {},
     "output_type": "execute_result"
    }
   ],
   "source": [
    "total_df = dp.data_subset(df, states=[\"United States\"])\n",
    "total_df[total_df[\"Source\"].isin([\"Renewable energy\", \"Fossil fuels\", \"Nuclear electric power\"])]"
   ]
  },
  {
   "cell_type": "code",
   "execution_count": 289,
   "metadata": {},
   "outputs": [
    {
     "data": {
      "text/html": [
       "<div>\n",
       "<style scoped>\n",
       "    .dataframe tbody tr th:only-of-type {\n",
       "        vertical-align: middle;\n",
       "    }\n",
       "\n",
       "    .dataframe tbody tr th {\n",
       "        vertical-align: top;\n",
       "    }\n",
       "\n",
       "    .dataframe thead th {\n",
       "        text-align: right;\n",
       "    }\n",
       "</style>\n",
       "<table border=\"1\" class=\"dataframe\">\n",
       "  <thead>\n",
       "    <tr style=\"text-align: right;\">\n",
       "      <th></th>\n",
       "      <th>State</th>\n",
       "      <th>Source</th>\n",
       "      <th>Sector</th>\n",
       "      <th>Unit</th>\n",
       "      <th>Year</th>\n",
       "      <th>BTU</th>\n",
       "    </tr>\n",
       "  </thead>\n",
       "  <tbody>\n",
       "    <tr>\n",
       "      <th>6644</th>\n",
       "      <td>United States</td>\n",
       "      <td>Aviation gasoline blending components</td>\n",
       "      <td>Industrial</td>\n",
       "      <td>Billion BTU</td>\n",
       "      <td>1960</td>\n",
       "      <td>0.0</td>\n",
       "    </tr>\n",
       "    <tr>\n",
       "      <th>6645</th>\n",
       "      <td>United States</td>\n",
       "      <td>Asphalt and road oil</td>\n",
       "      <td>Industrial</td>\n",
       "      <td>Billion BTU</td>\n",
       "      <td>1960</td>\n",
       "      <td>733782.0</td>\n",
       "    </tr>\n",
       "    <tr>\n",
       "      <th>6646</th>\n",
       "      <td>United States</td>\n",
       "      <td>Asphalt and road oil</td>\n",
       "      <td>Total</td>\n",
       "      <td>Billion BTU</td>\n",
       "      <td>1960</td>\n",
       "      <td>733782.0</td>\n",
       "    </tr>\n",
       "    <tr>\n",
       "      <th>6647</th>\n",
       "      <td>United States</td>\n",
       "      <td>Aviation gasoline</td>\n",
       "      <td>Transportation</td>\n",
       "      <td>Billion BTU</td>\n",
       "      <td>1960</td>\n",
       "      <td>297903.0</td>\n",
       "    </tr>\n",
       "    <tr>\n",
       "      <th>6648</th>\n",
       "      <td>United States</td>\n",
       "      <td>Aviation gasoline</td>\n",
       "      <td>Total</td>\n",
       "      <td>Billion BTU</td>\n",
       "      <td>1960</td>\n",
       "      <td>297903.0</td>\n",
       "    </tr>\n",
       "    <tr>\n",
       "      <th>...</th>\n",
       "      <td>...</td>\n",
       "      <td>...</td>\n",
       "      <td>...</td>\n",
       "      <td>...</td>\n",
       "      <td>...</td>\n",
       "      <td>...</td>\n",
       "    </tr>\n",
       "    <tr>\n",
       "      <th>462206</th>\n",
       "      <td>United States</td>\n",
       "      <td>Wood and biomass waste</td>\n",
       "      <td>Total</td>\n",
       "      <td>Billion BTU</td>\n",
       "      <td>2018</td>\n",
       "      <td>2747853.0</td>\n",
       "    </tr>\n",
       "    <tr>\n",
       "      <th>462207</th>\n",
       "      <td>United States</td>\n",
       "      <td>Waxes</td>\n",
       "      <td>Industrial</td>\n",
       "      <td>Billion BTU</td>\n",
       "      <td>2018</td>\n",
       "      <td>12414.0</td>\n",
       "    </tr>\n",
       "    <tr>\n",
       "      <th>462208</th>\n",
       "      <td>United States</td>\n",
       "      <td>Wind energy</td>\n",
       "      <td>Commercial</td>\n",
       "      <td>Billion BTU</td>\n",
       "      <td>2018</td>\n",
       "      <td>1585.0</td>\n",
       "    </tr>\n",
       "    <tr>\n",
       "      <th>462209</th>\n",
       "      <td>United States</td>\n",
       "      <td>Wind energy</td>\n",
       "      <td>Industrial</td>\n",
       "      <td>Billion BTU</td>\n",
       "      <td>2018</td>\n",
       "      <td>882.0</td>\n",
       "    </tr>\n",
       "    <tr>\n",
       "      <th>462210</th>\n",
       "      <td>United States</td>\n",
       "      <td>Wind energy</td>\n",
       "      <td>Total</td>\n",
       "      <td>Billion BTU</td>\n",
       "      <td>2018</td>\n",
       "      <td>2482364.0</td>\n",
       "    </tr>\n",
       "  </tbody>\n",
       "</table>\n",
       "<p>8909 rows × 6 columns</p>\n",
       "</div>"
      ],
      "text/plain": [
       "                State                                 Source          Sector  \\\n",
       "6644    United States  Aviation gasoline blending components      Industrial   \n",
       "6645    United States                   Asphalt and road oil      Industrial   \n",
       "6646    United States                   Asphalt and road oil           Total   \n",
       "6647    United States                      Aviation gasoline  Transportation   \n",
       "6648    United States                      Aviation gasoline           Total   \n",
       "...               ...                                    ...             ...   \n",
       "462206  United States                 Wood and biomass waste           Total   \n",
       "462207  United States                                  Waxes      Industrial   \n",
       "462208  United States                            Wind energy      Commercial   \n",
       "462209  United States                            Wind energy      Industrial   \n",
       "462210  United States                            Wind energy           Total   \n",
       "\n",
       "               Unit  Year        BTU  \n",
       "6644    Billion BTU  1960        0.0  \n",
       "6645    Billion BTU  1960   733782.0  \n",
       "6646    Billion BTU  1960   733782.0  \n",
       "6647    Billion BTU  1960   297903.0  \n",
       "6648    Billion BTU  1960   297903.0  \n",
       "...             ...   ...        ...  \n",
       "462206  Billion BTU  2018  2747853.0  \n",
       "462207  Billion BTU  2018    12414.0  \n",
       "462208  Billion BTU  2018     1585.0  \n",
       "462209  Billion BTU  2018      882.0  \n",
       "462210  Billion BTU  2018  2482364.0  \n",
       "\n",
       "[8909 rows x 6 columns]"
      ]
     },
     "execution_count": 289,
     "metadata": {},
     "output_type": "execute_result"
    }
   ],
   "source": [
    "total_df"
   ]
  },
  {
   "cell_type": "code",
   "execution_count": 290,
   "metadata": {},
   "outputs": [],
   "source": [
    "total_df = dp.data_subset(df, states=[\"United States\"], sources=[\"Renewable energy\", \"Natural gas (excluding supplemental gaseous fuels)\", \"Coal\", \"Nuclear electric power\", \"All petroleum products - excluding biofuels\"])\n",
    "# test_df = total_df[total_df[\"Source\"].isin([\"Renewable energy\", \"Fossil fuels\", \"Nuclear electric power\"])]\n",
    "test_df = total_df.groupby([\"Year\", \"Source\"], as_index=False).sum()\n",
    "# print(f\"{test_df[test_df['Year'] == '2018']['BTU'][58]:,}\")\n",
    "total_df[total_df[\"Year\"] == 1970]\n",
    "\n",
    "test_df[\"Source\"] = test_df[\"Source\"].replace(\n",
    "        {\n",
    "            \"Renewable energy\": \"Renewables\",\n",
    "            \"Natural gas (excluding supplemental gaseous fuels)\": \"Natural gas\",\n",
    "            \"Nuclear electric power\": \"Nuclear\",\n",
    "            \"All petroleum products - excluding biofuels\": \"Petroleum\"\n",
    "        },\n",
    "        regex = False\n",
    "    )"
   ]
  },
  {
   "cell_type": "code",
   "execution_count": 291,
   "metadata": {},
   "outputs": [
    {
     "data": {
      "application/vnd.plotly.v1+json": {
       "config": {
        "plotlyServerURL": "https://plot.ly"
       },
       "data": [
        {
         "hovertemplate": "Source=Petroleum<br>Year=%{x}<br>Quadrillion BTU=%{y}<extra></extra>",
         "legendgroup": "Petroleum",
         "line": {
          "color": "#7A89C2",
          "dash": "solid"
         },
         "mode": "lines",
         "name": "Petroleum",
         "orientation": "v",
         "showlegend": true,
         "type": "scatter",
         "x": [
          1960,
          1961,
          1962,
          1963,
          1964,
          1965,
          1966,
          1967,
          1968,
          1969,
          1970,
          1971,
          1972,
          1973,
          1974,
          1975,
          1976,
          1977,
          1978,
          1979,
          1980,
          1981,
          1982,
          1983,
          1984,
          1985,
          1986,
          1987,
          1988,
          1989,
          1990,
          1991,
          1992,
          1993,
          1994,
          1995,
          1996,
          1997,
          1998,
          1999,
          2000,
          2001,
          2002,
          2003,
          2004,
          2005,
          2006,
          2007,
          2008,
          2009,
          2010,
          2011,
          2012,
          2013,
          2014,
          2015,
          2016,
          2017,
          2018
         ],
         "xaxis": "x",
         "y": [
          19.873652,
          20.16804,
          20.997481,
          21.644489,
          22.240249,
          23.183963,
          24.334435,
          25.272517,
          26.964864,
          28.321627,
          29.500112,
          30.541454,
          32.91916,
          34.806025,
          33.420613,
          32.698781,
          35.141985,
          37.082642,
          37.919119,
          37.075744,
          34.159533,
          31.884079,
          30.179518,
          29.99723,
          30.993084,
          30.867287,
          32.150914,
          32.818384,
          34.173609,
          34.164741,
          33.500896,
          32.790251,
          33.468926,
          33.591507,
          34.457681,
          34.345586,
          35.592566,
          36.06926,
          36.724106,
          37.736847,
          38.156681,
          38.087631,
          38.122145,
          38.713457,
          40.148362,
          40.227276,
          39.743329,
          39.383775,
          36.791612,
          34.801119,
          35.335982,
          34.626132,
          33.839275,
          34.429386,
          34.686375,
          35.40492,
          35.738665,
          36.080731,
          36.901589
         ],
         "yaxis": "y"
        },
        {
         "hovertemplate": "Source=Coal<br>Year=%{x}<br>Quadrillion BTU=%{y}<extra></extra>",
         "legendgroup": "Coal",
         "line": {
          "color": "#525B76",
          "dash": "solid"
         },
         "mode": "lines",
         "name": "Coal",
         "orientation": "v",
         "showlegend": true,
         "type": "scatter",
         "x": [
          1960,
          1961,
          1962,
          1963,
          1964,
          1965,
          1966,
          1967,
          1968,
          1969,
          1970,
          1971,
          1972,
          1973,
          1974,
          1975,
          1976,
          1977,
          1978,
          1979,
          1980,
          1981,
          1982,
          1983,
          1984,
          1985,
          1986,
          1987,
          1988,
          1989,
          1990,
          1991,
          1992,
          1993,
          1994,
          1995,
          1996,
          1997,
          1998,
          1999,
          2000,
          2001,
          2002,
          2003,
          2004,
          2005,
          2006,
          2007,
          2008,
          2009,
          2010,
          2011,
          2012,
          2013,
          2014,
          2015,
          2016,
          2017,
          2018
         ],
         "xaxis": "x",
         "y": [
          15.434433,
          14.880962,
          15.186732,
          15.778964,
          16.555325,
          17.34344,
          17.989029,
          17.389211,
          17.681493,
          17.547168,
          17.309785,
          15.907156,
          16.376538,
          17.260322,
          16.763311,
          16.521946,
          17.42112,
          17.555473,
          17.285925,
          18.813049,
          18.764037,
          19.252576,
          18.000344,
          18.549137,
          20.065529,
          20.49371,
          20.063332,
          20.784923,
          21.885172,
          21.975053,
          22.076368,
          21.730345,
          21.771982,
          22.477831,
          22.548039,
          22.732621,
          23.576737,
          23.984342,
          23.95084,
          23.885143,
          24.931279,
          24.199135,
          24.02276,
          24.461932,
          24.624892,
          24.851472,
          24.42844,
          24.690579,
          24.255032,
          21.158917,
          22.523398,
          21.292298,
          18.94059,
          19.627111,
          19.565922,
          16.959734,
          15.457627,
          15.057044,
          14.446896
         ],
         "yaxis": "y"
        },
        {
         "hovertemplate": "Source=Natural gas<br>Year=%{x}<br>Quadrillion BTU=%{y}<extra></extra>",
         "legendgroup": "Natural gas",
         "line": {
          "color": "#EE7674",
          "dash": "solid"
         },
         "mode": "lines",
         "name": "Natural gas",
         "orientation": "v",
         "showlegend": true,
         "type": "scatter",
         "x": [
          1960,
          1961,
          1962,
          1963,
          1964,
          1965,
          1966,
          1967,
          1968,
          1969,
          1970,
          1971,
          1972,
          1973,
          1974,
          1975,
          1976,
          1977,
          1978,
          1979,
          1980,
          1981,
          1982,
          1983,
          1984,
          1985,
          1986,
          1987,
          1988,
          1989,
          1990,
          1991,
          1992,
          1993,
          1994,
          1995,
          1996,
          1997,
          1998,
          1999,
          2000,
          2001,
          2002,
          2003,
          2004,
          2005,
          2006,
          2007,
          2008,
          2009,
          2010,
          2011,
          2012,
          2013,
          2014,
          2015,
          2016,
          2017,
          2018
         ],
         "xaxis": "x",
         "y": [
          12.385366,
          12.926392,
          13.730841,
          14.419107,
          15.297642,
          15.779457,
          17.005781,
          17.964988,
          19.204569,
          20.657964,
          21.69271,
          22.365248,
          22.682497,
          22.595346,
          21.729561,
          19.977076,
          20.381227,
          19.972477,
          20.067662,
          20.687615,
          20.226934,
          19.749623,
          18.367053,
          17.21202,
          18.389567,
          17.713531,
          16.603236,
          17.646792,
          18.460278,
          19.607316,
          19.627801,
          20.033047,
          20.723809,
          21.255357,
          21.757307,
          22.720621,
          23.151345,
          23.372324,
          22.911552,
          22.92526,
          23.815293,
          22.747645,
          23.513541,
          22.822564,
          22.927283,
          22.567132,
          22.225318,
          23.670821,
          23.836273,
          23.421003,
          24.568039,
          24.953771,
          26.075691,
          26.788768,
          27.376838,
          28.179686,
          28.39279,
          28.063215,
          31.08636
         ],
         "yaxis": "y"
        },
        {
         "hovertemplate": "Source=Nuclear<br>Year=%{x}<br>Quadrillion BTU=%{y}<extra></extra>",
         "legendgroup": "Nuclear",
         "line": {
          "color": "#F4A259",
          "dash": "solid"
         },
         "mode": "lines",
         "name": "Nuclear",
         "orientation": "v",
         "showlegend": true,
         "type": "scatter",
         "x": [
          1960,
          1961,
          1962,
          1963,
          1964,
          1965,
          1966,
          1967,
          1968,
          1969,
          1970,
          1971,
          1972,
          1973,
          1974,
          1975,
          1976,
          1977,
          1978,
          1979,
          1980,
          1981,
          1982,
          1983,
          1984,
          1985,
          1986,
          1987,
          1988,
          1989,
          1990,
          1991,
          1992,
          1993,
          1994,
          1995,
          1996,
          1997,
          1998,
          1999,
          2000,
          2001,
          2002,
          2003,
          2004,
          2005,
          2006,
          2007,
          2008,
          2009,
          2010,
          2011,
          2012,
          2013,
          2014,
          2015,
          2016,
          2017,
          2018
         ],
         "xaxis": "x",
         "y": [
          0.006026,
          0.019678,
          0.026394,
          0.038147,
          0.039819,
          0.043164,
          0.064158,
          0.088456,
          0.141534,
          0.153722,
          0.239347,
          0.412939,
          0.583752,
          0.910177,
          1.272083,
          1.899798,
          2.111121,
          2.701762,
          3.024126,
          2.775827,
          2.739169,
          3.007589,
          3.131148,
          3.202549,
          3.552531,
          4.075563,
          4.380109,
          4.753933,
          5.586968,
          5.602161,
          6.10435,
          6.422132,
          6.479206,
          6.410499,
          6.693877,
          7.075436,
          7.086674,
          6.596992,
          7.067809,
          7.610256,
          7.862349,
          8.028853,
          8.145429,
          7.959622,
          8.222774,
          8.16081,
          8.214626,
          8.458589,
          8.426491,
          8.35522,
          8.434433,
          8.268698,
          8.061822,
          8.244433,
          8.337559,
          8.336886,
          8.426753,
          8.418968,
          8.438068
         ],
         "yaxis": "y"
        },
        {
         "hovertemplate": "Source=Renewables<br>Year=%{x}<br>Quadrillion BTU=%{y}<extra></extra>",
         "legendgroup": "Renewables",
         "line": {
          "color": "#9DBF9E",
          "dash": "solid"
         },
         "mode": "lines",
         "name": "Renewables",
         "orientation": "v",
         "showlegend": true,
         "type": "scatter",
         "x": [
          1960,
          1961,
          1962,
          1963,
          1964,
          1965,
          1966,
          1967,
          1968,
          1969,
          1970,
          1971,
          1972,
          1973,
          1974,
          1975,
          1976,
          1977,
          1978,
          1979,
          1980,
          1981,
          1982,
          1983,
          1984,
          1985,
          1986,
          1987,
          1988,
          1989,
          1990,
          1991,
          1992,
          1993,
          1994,
          1995,
          1996,
          1997,
          1998,
          1999,
          2000,
          2001,
          2002,
          2003,
          2004,
          2005,
          2006,
          2007,
          2008,
          2009,
          2010,
          2011,
          2012,
          2013,
          2014,
          2015,
          2016,
          2017,
          2018
         ],
         "xaxis": "x",
         "y": [
          2.928205,
          2.952227,
          3.117444,
          3.096431,
          3.225249,
          3.395816,
          3.432463,
          3.690213,
          3.772655,
          4.094893,
          4.070021,
          4.262212,
          4.382009,
          4.410938,
          4.741851,
          4.687119,
          4.727151,
          4.208966,
          5.005439,
          5.122854,
          5.424534,
          5.417152,
          5.980929,
          6.495612,
          6.438347,
          6.084017,
          6.11114,
          5.624499,
          5.456754,
          6.234663,
          6.041894,
          6.067787,
          5.820551,
          6.079367,
          5.987153,
          6.559368,
          7.012393,
          7.01164,
          6.491325,
          6.514712,
          6.10427,
          5.16433,
          5.726116,
          5.944164,
          6.074727,
          6.232013,
          6.636869,
          6.52311,
          7.174689,
          7.608304,
          8.266858,
          9.203643,
          8.846565,
          9.420387,
          9.712292,
          9.68707,
          10.328978,
          11.046868,
          11.281563
         ],
         "yaxis": "y"
        }
       ],
       "layout": {
        "hovermode": "x",
        "legend": {
         "title": {
          "text": "Source"
         },
         "tracegroupgap": 0
        },
        "margin": {
         "t": 60
        },
        "shapes": [
         {
          "fillcolor": "LightCoral",
          "layer": "below",
          "line": {
           "width": 1
          },
          "opacity": 0.5,
          "type": "rect",
          "x0": "1960-01-01",
          "x1": "1961-01-01",
          "xref": "x",
          "y0": 0,
          "y1": 1,
          "yref": "y domain"
         },
         {
          "fillcolor": "SkyBlue",
          "layer": "below",
          "line": {
           "width": 1
          },
          "opacity": 0.5,
          "type": "rect",
          "x0": "1961-01-01",
          "x1": "1963-01-01",
          "xref": "x",
          "y0": 0,
          "y1": 1,
          "yref": "y domain"
         },
         {
          "fillcolor": "SkyBlue",
          "layer": "below",
          "line": {
           "width": 1
          },
          "opacity": 0.5,
          "type": "rect",
          "x0": "1963-01-01",
          "x1": "1969-01-01",
          "xref": "x",
          "y0": 0,
          "y1": 1,
          "yref": "y domain"
         },
         {
          "fillcolor": "LightCoral",
          "layer": "below",
          "line": {
           "width": 1
          },
          "opacity": 0.5,
          "type": "rect",
          "x0": "1969-01-01",
          "x1": "1974-01-01",
          "xref": "x",
          "y0": 0,
          "y1": 1,
          "yref": "y domain"
         },
         {
          "fillcolor": "LightCoral",
          "layer": "below",
          "line": {
           "width": 1
          },
          "opacity": 0.5,
          "type": "rect",
          "x0": "1974-01-01",
          "x1": "1977-01-01",
          "xref": "x",
          "y0": 0,
          "y1": 1,
          "yref": "y domain"
         },
         {
          "fillcolor": "SkyBlue",
          "layer": "below",
          "line": {
           "width": 1
          },
          "opacity": 0.5,
          "type": "rect",
          "x0": "1977-01-01",
          "x1": "1981-01-01",
          "xref": "x",
          "y0": 0,
          "y1": 1,
          "yref": "y domain"
         },
         {
          "fillcolor": "LightCoral",
          "layer": "below",
          "line": {
           "width": 1
          },
          "opacity": 0.5,
          "type": "rect",
          "x0": "1981-01-01",
          "x1": "1989-01-01",
          "xref": "x",
          "y0": 0,
          "y1": 1,
          "yref": "y domain"
         },
         {
          "fillcolor": "LightCoral",
          "layer": "below",
          "line": {
           "width": 1
          },
          "opacity": 0.5,
          "type": "rect",
          "x0": "1989-01-01",
          "x1": "1993-01-01",
          "xref": "x",
          "y0": 0,
          "y1": 1,
          "yref": "y domain"
         },
         {
          "fillcolor": "SkyBlue",
          "layer": "below",
          "line": {
           "width": 1
          },
          "opacity": 0.5,
          "type": "rect",
          "x0": "1993-01-01",
          "x1": "2001-01-01",
          "xref": "x",
          "y0": 0,
          "y1": 1,
          "yref": "y domain"
         },
         {
          "fillcolor": "LightCoral",
          "layer": "below",
          "line": {
           "width": 1
          },
          "opacity": 0.5,
          "type": "rect",
          "x0": "2001-01-01",
          "x1": "2009-01-01",
          "xref": "x",
          "y0": 0,
          "y1": 1,
          "yref": "y domain"
         },
         {
          "fillcolor": "SkyBlue",
          "layer": "below",
          "line": {
           "width": 1
          },
          "opacity": 0.5,
          "type": "rect",
          "x0": "2009-01-01",
          "x1": "2017-01-01",
          "xref": "x",
          "y0": 0,
          "y1": 1,
          "yref": "y domain"
         },
         {
          "fillcolor": "LightCoral",
          "layer": "below",
          "line": {
           "width": 1
          },
          "opacity": 0.5,
          "type": "rect",
          "x0": "2017-01-01",
          "x1": "2018-01-01",
          "xref": "x",
          "y0": 0,
          "y1": 1,
          "yref": "y domain"
         }
        ],
        "template": {
         "data": {
          "bar": [
           {
            "error_x": {
             "color": "#2a3f5f"
            },
            "error_y": {
             "color": "#2a3f5f"
            },
            "marker": {
             "line": {
              "color": "#E5ECF6",
              "width": 0.5
             }
            },
            "type": "bar"
           }
          ],
          "barpolar": [
           {
            "marker": {
             "line": {
              "color": "#E5ECF6",
              "width": 0.5
             }
            },
            "type": "barpolar"
           }
          ],
          "carpet": [
           {
            "aaxis": {
             "endlinecolor": "#2a3f5f",
             "gridcolor": "white",
             "linecolor": "white",
             "minorgridcolor": "white",
             "startlinecolor": "#2a3f5f"
            },
            "baxis": {
             "endlinecolor": "#2a3f5f",
             "gridcolor": "white",
             "linecolor": "white",
             "minorgridcolor": "white",
             "startlinecolor": "#2a3f5f"
            },
            "type": "carpet"
           }
          ],
          "choropleth": [
           {
            "colorbar": {
             "outlinewidth": 0,
             "ticks": ""
            },
            "type": "choropleth"
           }
          ],
          "contour": [
           {
            "colorbar": {
             "outlinewidth": 0,
             "ticks": ""
            },
            "colorscale": [
             [
              0,
              "#0d0887"
             ],
             [
              0.1111111111111111,
              "#46039f"
             ],
             [
              0.2222222222222222,
              "#7201a8"
             ],
             [
              0.3333333333333333,
              "#9c179e"
             ],
             [
              0.4444444444444444,
              "#bd3786"
             ],
             [
              0.5555555555555556,
              "#d8576b"
             ],
             [
              0.6666666666666666,
              "#ed7953"
             ],
             [
              0.7777777777777778,
              "#fb9f3a"
             ],
             [
              0.8888888888888888,
              "#fdca26"
             ],
             [
              1,
              "#f0f921"
             ]
            ],
            "type": "contour"
           }
          ],
          "contourcarpet": [
           {
            "colorbar": {
             "outlinewidth": 0,
             "ticks": ""
            },
            "type": "contourcarpet"
           }
          ],
          "heatmap": [
           {
            "colorbar": {
             "outlinewidth": 0,
             "ticks": ""
            },
            "colorscale": [
             [
              0,
              "#0d0887"
             ],
             [
              0.1111111111111111,
              "#46039f"
             ],
             [
              0.2222222222222222,
              "#7201a8"
             ],
             [
              0.3333333333333333,
              "#9c179e"
             ],
             [
              0.4444444444444444,
              "#bd3786"
             ],
             [
              0.5555555555555556,
              "#d8576b"
             ],
             [
              0.6666666666666666,
              "#ed7953"
             ],
             [
              0.7777777777777778,
              "#fb9f3a"
             ],
             [
              0.8888888888888888,
              "#fdca26"
             ],
             [
              1,
              "#f0f921"
             ]
            ],
            "type": "heatmap"
           }
          ],
          "heatmapgl": [
           {
            "colorbar": {
             "outlinewidth": 0,
             "ticks": ""
            },
            "colorscale": [
             [
              0,
              "#0d0887"
             ],
             [
              0.1111111111111111,
              "#46039f"
             ],
             [
              0.2222222222222222,
              "#7201a8"
             ],
             [
              0.3333333333333333,
              "#9c179e"
             ],
             [
              0.4444444444444444,
              "#bd3786"
             ],
             [
              0.5555555555555556,
              "#d8576b"
             ],
             [
              0.6666666666666666,
              "#ed7953"
             ],
             [
              0.7777777777777778,
              "#fb9f3a"
             ],
             [
              0.8888888888888888,
              "#fdca26"
             ],
             [
              1,
              "#f0f921"
             ]
            ],
            "type": "heatmapgl"
           }
          ],
          "histogram": [
           {
            "marker": {
             "colorbar": {
              "outlinewidth": 0,
              "ticks": ""
             }
            },
            "type": "histogram"
           }
          ],
          "histogram2d": [
           {
            "colorbar": {
             "outlinewidth": 0,
             "ticks": ""
            },
            "colorscale": [
             [
              0,
              "#0d0887"
             ],
             [
              0.1111111111111111,
              "#46039f"
             ],
             [
              0.2222222222222222,
              "#7201a8"
             ],
             [
              0.3333333333333333,
              "#9c179e"
             ],
             [
              0.4444444444444444,
              "#bd3786"
             ],
             [
              0.5555555555555556,
              "#d8576b"
             ],
             [
              0.6666666666666666,
              "#ed7953"
             ],
             [
              0.7777777777777778,
              "#fb9f3a"
             ],
             [
              0.8888888888888888,
              "#fdca26"
             ],
             [
              1,
              "#f0f921"
             ]
            ],
            "type": "histogram2d"
           }
          ],
          "histogram2dcontour": [
           {
            "colorbar": {
             "outlinewidth": 0,
             "ticks": ""
            },
            "colorscale": [
             [
              0,
              "#0d0887"
             ],
             [
              0.1111111111111111,
              "#46039f"
             ],
             [
              0.2222222222222222,
              "#7201a8"
             ],
             [
              0.3333333333333333,
              "#9c179e"
             ],
             [
              0.4444444444444444,
              "#bd3786"
             ],
             [
              0.5555555555555556,
              "#d8576b"
             ],
             [
              0.6666666666666666,
              "#ed7953"
             ],
             [
              0.7777777777777778,
              "#fb9f3a"
             ],
             [
              0.8888888888888888,
              "#fdca26"
             ],
             [
              1,
              "#f0f921"
             ]
            ],
            "type": "histogram2dcontour"
           }
          ],
          "mesh3d": [
           {
            "colorbar": {
             "outlinewidth": 0,
             "ticks": ""
            },
            "type": "mesh3d"
           }
          ],
          "parcoords": [
           {
            "line": {
             "colorbar": {
              "outlinewidth": 0,
              "ticks": ""
             }
            },
            "type": "parcoords"
           }
          ],
          "pie": [
           {
            "automargin": true,
            "type": "pie"
           }
          ],
          "scatter": [
           {
            "marker": {
             "colorbar": {
              "outlinewidth": 0,
              "ticks": ""
             }
            },
            "type": "scatter"
           }
          ],
          "scatter3d": [
           {
            "line": {
             "colorbar": {
              "outlinewidth": 0,
              "ticks": ""
             }
            },
            "marker": {
             "colorbar": {
              "outlinewidth": 0,
              "ticks": ""
             }
            },
            "type": "scatter3d"
           }
          ],
          "scattercarpet": [
           {
            "marker": {
             "colorbar": {
              "outlinewidth": 0,
              "ticks": ""
             }
            },
            "type": "scattercarpet"
           }
          ],
          "scattergeo": [
           {
            "marker": {
             "colorbar": {
              "outlinewidth": 0,
              "ticks": ""
             }
            },
            "type": "scattergeo"
           }
          ],
          "scattergl": [
           {
            "marker": {
             "colorbar": {
              "outlinewidth": 0,
              "ticks": ""
             }
            },
            "type": "scattergl"
           }
          ],
          "scattermapbox": [
           {
            "marker": {
             "colorbar": {
              "outlinewidth": 0,
              "ticks": ""
             }
            },
            "type": "scattermapbox"
           }
          ],
          "scatterpolar": [
           {
            "marker": {
             "colorbar": {
              "outlinewidth": 0,
              "ticks": ""
             }
            },
            "type": "scatterpolar"
           }
          ],
          "scatterpolargl": [
           {
            "marker": {
             "colorbar": {
              "outlinewidth": 0,
              "ticks": ""
             }
            },
            "type": "scatterpolargl"
           }
          ],
          "scatterternary": [
           {
            "marker": {
             "colorbar": {
              "outlinewidth": 0,
              "ticks": ""
             }
            },
            "type": "scatterternary"
           }
          ],
          "surface": [
           {
            "colorbar": {
             "outlinewidth": 0,
             "ticks": ""
            },
            "colorscale": [
             [
              0,
              "#0d0887"
             ],
             [
              0.1111111111111111,
              "#46039f"
             ],
             [
              0.2222222222222222,
              "#7201a8"
             ],
             [
              0.3333333333333333,
              "#9c179e"
             ],
             [
              0.4444444444444444,
              "#bd3786"
             ],
             [
              0.5555555555555556,
              "#d8576b"
             ],
             [
              0.6666666666666666,
              "#ed7953"
             ],
             [
              0.7777777777777778,
              "#fb9f3a"
             ],
             [
              0.8888888888888888,
              "#fdca26"
             ],
             [
              1,
              "#f0f921"
             ]
            ],
            "type": "surface"
           }
          ],
          "table": [
           {
            "cells": {
             "fill": {
              "color": "#EBF0F8"
             },
             "line": {
              "color": "white"
             }
            },
            "header": {
             "fill": {
              "color": "#C8D4E3"
             },
             "line": {
              "color": "white"
             }
            },
            "type": "table"
           }
          ]
         },
         "layout": {
          "annotationdefaults": {
           "arrowcolor": "#2a3f5f",
           "arrowhead": 0,
           "arrowwidth": 1
          },
          "autotypenumbers": "strict",
          "coloraxis": {
           "colorbar": {
            "outlinewidth": 0,
            "ticks": ""
           }
          },
          "colorscale": {
           "diverging": [
            [
             0,
             "#8e0152"
            ],
            [
             0.1,
             "#c51b7d"
            ],
            [
             0.2,
             "#de77ae"
            ],
            [
             0.3,
             "#f1b6da"
            ],
            [
             0.4,
             "#fde0ef"
            ],
            [
             0.5,
             "#f7f7f7"
            ],
            [
             0.6,
             "#e6f5d0"
            ],
            [
             0.7,
             "#b8e186"
            ],
            [
             0.8,
             "#7fbc41"
            ],
            [
             0.9,
             "#4d9221"
            ],
            [
             1,
             "#276419"
            ]
           ],
           "sequential": [
            [
             0,
             "#0d0887"
            ],
            [
             0.1111111111111111,
             "#46039f"
            ],
            [
             0.2222222222222222,
             "#7201a8"
            ],
            [
             0.3333333333333333,
             "#9c179e"
            ],
            [
             0.4444444444444444,
             "#bd3786"
            ],
            [
             0.5555555555555556,
             "#d8576b"
            ],
            [
             0.6666666666666666,
             "#ed7953"
            ],
            [
             0.7777777777777778,
             "#fb9f3a"
            ],
            [
             0.8888888888888888,
             "#fdca26"
            ],
            [
             1,
             "#f0f921"
            ]
           ],
           "sequentialminus": [
            [
             0,
             "#0d0887"
            ],
            [
             0.1111111111111111,
             "#46039f"
            ],
            [
             0.2222222222222222,
             "#7201a8"
            ],
            [
             0.3333333333333333,
             "#9c179e"
            ],
            [
             0.4444444444444444,
             "#bd3786"
            ],
            [
             0.5555555555555556,
             "#d8576b"
            ],
            [
             0.6666666666666666,
             "#ed7953"
            ],
            [
             0.7777777777777778,
             "#fb9f3a"
            ],
            [
             0.8888888888888888,
             "#fdca26"
            ],
            [
             1,
             "#f0f921"
            ]
           ]
          },
          "colorway": [
           "#636efa",
           "#EF553B",
           "#00cc96",
           "#ab63fa",
           "#FFA15A",
           "#19d3f3",
           "#FF6692",
           "#B6E880",
           "#FF97FF",
           "#FECB52"
          ],
          "font": {
           "color": "#2a3f5f"
          },
          "geo": {
           "bgcolor": "white",
           "lakecolor": "white",
           "landcolor": "#E5ECF6",
           "showlakes": true,
           "showland": true,
           "subunitcolor": "white"
          },
          "hoverlabel": {
           "align": "left"
          },
          "hovermode": "closest",
          "mapbox": {
           "style": "light"
          },
          "paper_bgcolor": "white",
          "plot_bgcolor": "#E5ECF6",
          "polar": {
           "angularaxis": {
            "gridcolor": "white",
            "linecolor": "white",
            "ticks": ""
           },
           "bgcolor": "#E5ECF6",
           "radialaxis": {
            "gridcolor": "white",
            "linecolor": "white",
            "ticks": ""
           }
          },
          "scene": {
           "xaxis": {
            "backgroundcolor": "#E5ECF6",
            "gridcolor": "white",
            "gridwidth": 2,
            "linecolor": "white",
            "showbackground": true,
            "ticks": "",
            "zerolinecolor": "white"
           },
           "yaxis": {
            "backgroundcolor": "#E5ECF6",
            "gridcolor": "white",
            "gridwidth": 2,
            "linecolor": "white",
            "showbackground": true,
            "ticks": "",
            "zerolinecolor": "white"
           },
           "zaxis": {
            "backgroundcolor": "#E5ECF6",
            "gridcolor": "white",
            "gridwidth": 2,
            "linecolor": "white",
            "showbackground": true,
            "ticks": "",
            "zerolinecolor": "white"
           }
          },
          "shapedefaults": {
           "line": {
            "color": "#2a3f5f"
           }
          },
          "ternary": {
           "aaxis": {
            "gridcolor": "white",
            "linecolor": "white",
            "ticks": ""
           },
           "baxis": {
            "gridcolor": "white",
            "linecolor": "white",
            "ticks": ""
           },
           "bgcolor": "#E5ECF6",
           "caxis": {
            "gridcolor": "white",
            "linecolor": "white",
            "ticks": ""
           }
          },
          "title": {
           "x": 0.05
          },
          "xaxis": {
           "automargin": true,
           "gridcolor": "white",
           "linecolor": "white",
           "ticks": "",
           "title": {
            "standoff": 15
           },
           "zerolinecolor": "white",
           "zerolinewidth": 2
          },
          "yaxis": {
           "automargin": true,
           "gridcolor": "white",
           "linecolor": "white",
           "ticks": "",
           "title": {
            "standoff": 15
           },
           "zerolinecolor": "white",
           "zerolinewidth": 2
          }
         }
        },
        "xaxis": {
         "anchor": "y",
         "domain": [
          0,
          1
         ],
         "rangeselector": {
          "buttons": [
           {
            "count": 58,
            "label": "1960",
            "step": "year",
            "stepmode": "backward"
           },
           {
            "count": 48,
            "label": "1970",
            "step": "year",
            "stepmode": "backward"
           },
           {
            "count": 38,
            "label": "1980",
            "step": "year",
            "stepmode": "backward"
           },
           {
            "count": 28,
            "label": "1990",
            "step": "year",
            "stepmode": "backward"
           },
           {
            "count": 18,
            "label": "2000",
            "step": "year",
            "stepmode": "backward"
           },
           {
            "count": 8,
            "label": "2010",
            "step": "year",
            "stepmode": "backward"
           }
          ]
         },
         "showgrid": false,
         "showspikes": true,
         "ticktext": [
          "John F. Kennedy",
          "Lyndon B. Johnson",
          "Richard Nixon",
          "Gerald Ford",
          "Jimmy Carter",
          "Ronald Reagan",
          "George H.W. Bush",
          "Bill Clinton",
          "George W. Bush",
          "Barack Obama",
          "Donald Trump"
         ],
         "tickvals": [
          "1961-01-01",
          "1963-01-01",
          "1969-01-01",
          "1974-01-01",
          "1977-01-01",
          "1981-01-01",
          "1989-01-01",
          "1993-01-01",
          "2001-01-01",
          "2009-01-01",
          "2017-01-01"
         ],
         "title": {
          "text": "President"
         },
         "type": "date"
        },
        "yaxis": {
         "anchor": "x",
         "domain": [
          0,
          1
         ],
         "showgrid": false,
         "showspikes": true,
         "title": {
          "text": "Quadrillion BTU"
         }
        }
       }
      },
      "text/html": [
       "<div>                            <div id=\"c802c55c-4dfd-4245-8ec6-4d66cd752c68\" class=\"plotly-graph-div\" style=\"height:525px; width:100%;\"></div>            <script type=\"text/javascript\">                require([\"plotly\"], function(Plotly) {                    window.PLOTLYENV=window.PLOTLYENV || {};                                    if (document.getElementById(\"c802c55c-4dfd-4245-8ec6-4d66cd752c68\")) {                    Plotly.newPlot(                        \"c802c55c-4dfd-4245-8ec6-4d66cd752c68\",                        [{\"hovertemplate\": \"Source=Petroleum<br>Year=%{x}<br>Quadrillion BTU=%{y}<extra></extra>\", \"legendgroup\": \"Petroleum\", \"line\": {\"color\": \"#7A89C2\", \"dash\": \"solid\"}, \"mode\": \"lines\", \"name\": \"Petroleum\", \"orientation\": \"v\", \"showlegend\": true, \"type\": \"scatter\", \"x\": [1960, 1961, 1962, 1963, 1964, 1965, 1966, 1967, 1968, 1969, 1970, 1971, 1972, 1973, 1974, 1975, 1976, 1977, 1978, 1979, 1980, 1981, 1982, 1983, 1984, 1985, 1986, 1987, 1988, 1989, 1990, 1991, 1992, 1993, 1994, 1995, 1996, 1997, 1998, 1999, 2000, 2001, 2002, 2003, 2004, 2005, 2006, 2007, 2008, 2009, 2010, 2011, 2012, 2013, 2014, 2015, 2016, 2017, 2018], \"xaxis\": \"x\", \"y\": [19.873652, 20.16804, 20.997481, 21.644489, 22.240249, 23.183963, 24.334435, 25.272517, 26.964864, 28.321627, 29.500112, 30.541454, 32.91916, 34.806025, 33.420613, 32.698781, 35.141985, 37.082642, 37.919119, 37.075744, 34.159533, 31.884079, 30.179518, 29.99723, 30.993084, 30.867287, 32.150914, 32.818384, 34.173609, 34.164741, 33.500896, 32.790251, 33.468926, 33.591507, 34.457681, 34.345586, 35.592566, 36.06926, 36.724106, 37.736847, 38.156681, 38.087631, 38.122145, 38.713457, 40.148362, 40.227276, 39.743329, 39.383775, 36.791612, 34.801119, 35.335982, 34.626132, 33.839275, 34.429386, 34.686375, 35.40492, 35.738665, 36.080731, 36.901589], \"yaxis\": \"y\"}, {\"hovertemplate\": \"Source=Coal<br>Year=%{x}<br>Quadrillion BTU=%{y}<extra></extra>\", \"legendgroup\": \"Coal\", \"line\": {\"color\": \"#525B76\", \"dash\": \"solid\"}, \"mode\": \"lines\", \"name\": \"Coal\", \"orientation\": \"v\", \"showlegend\": true, \"type\": \"scatter\", \"x\": [1960, 1961, 1962, 1963, 1964, 1965, 1966, 1967, 1968, 1969, 1970, 1971, 1972, 1973, 1974, 1975, 1976, 1977, 1978, 1979, 1980, 1981, 1982, 1983, 1984, 1985, 1986, 1987, 1988, 1989, 1990, 1991, 1992, 1993, 1994, 1995, 1996, 1997, 1998, 1999, 2000, 2001, 2002, 2003, 2004, 2005, 2006, 2007, 2008, 2009, 2010, 2011, 2012, 2013, 2014, 2015, 2016, 2017, 2018], \"xaxis\": \"x\", \"y\": [15.434433, 14.880962, 15.186732, 15.778964, 16.555325, 17.34344, 17.989029, 17.389211, 17.681493, 17.547168, 17.309785, 15.907156, 16.376538, 17.260322, 16.763311, 16.521946, 17.42112, 17.555473, 17.285925, 18.813049, 18.764037, 19.252576, 18.000344, 18.549137, 20.065529, 20.49371, 20.063332, 20.784923, 21.885172, 21.975053, 22.076368, 21.730345, 21.771982, 22.477831, 22.548039, 22.732621, 23.576737, 23.984342, 23.95084, 23.885143, 24.931279, 24.199135, 24.02276, 24.461932, 24.624892, 24.851472, 24.42844, 24.690579, 24.255032, 21.158917, 22.523398, 21.292298, 18.94059, 19.627111, 19.565922, 16.959734, 15.457627, 15.057044, 14.446896], \"yaxis\": \"y\"}, {\"hovertemplate\": \"Source=Natural gas<br>Year=%{x}<br>Quadrillion BTU=%{y}<extra></extra>\", \"legendgroup\": \"Natural gas\", \"line\": {\"color\": \"#EE7674\", \"dash\": \"solid\"}, \"mode\": \"lines\", \"name\": \"Natural gas\", \"orientation\": \"v\", \"showlegend\": true, \"type\": \"scatter\", \"x\": [1960, 1961, 1962, 1963, 1964, 1965, 1966, 1967, 1968, 1969, 1970, 1971, 1972, 1973, 1974, 1975, 1976, 1977, 1978, 1979, 1980, 1981, 1982, 1983, 1984, 1985, 1986, 1987, 1988, 1989, 1990, 1991, 1992, 1993, 1994, 1995, 1996, 1997, 1998, 1999, 2000, 2001, 2002, 2003, 2004, 2005, 2006, 2007, 2008, 2009, 2010, 2011, 2012, 2013, 2014, 2015, 2016, 2017, 2018], \"xaxis\": \"x\", \"y\": [12.385366, 12.926392, 13.730841, 14.419107, 15.297642, 15.779457, 17.005781, 17.964988, 19.204569, 20.657964, 21.69271, 22.365248, 22.682497, 22.595346, 21.729561, 19.977076, 20.381227, 19.972477, 20.067662, 20.687615, 20.226934, 19.749623, 18.367053, 17.21202, 18.389567, 17.713531, 16.603236, 17.646792, 18.460278, 19.607316, 19.627801, 20.033047, 20.723809, 21.255357, 21.757307, 22.720621, 23.151345, 23.372324, 22.911552, 22.92526, 23.815293, 22.747645, 23.513541, 22.822564, 22.927283, 22.567132, 22.225318, 23.670821, 23.836273, 23.421003, 24.568039, 24.953771, 26.075691, 26.788768, 27.376838, 28.179686, 28.39279, 28.063215, 31.08636], \"yaxis\": \"y\"}, {\"hovertemplate\": \"Source=Nuclear<br>Year=%{x}<br>Quadrillion BTU=%{y}<extra></extra>\", \"legendgroup\": \"Nuclear\", \"line\": {\"color\": \"#F4A259\", \"dash\": \"solid\"}, \"mode\": \"lines\", \"name\": \"Nuclear\", \"orientation\": \"v\", \"showlegend\": true, \"type\": \"scatter\", \"x\": [1960, 1961, 1962, 1963, 1964, 1965, 1966, 1967, 1968, 1969, 1970, 1971, 1972, 1973, 1974, 1975, 1976, 1977, 1978, 1979, 1980, 1981, 1982, 1983, 1984, 1985, 1986, 1987, 1988, 1989, 1990, 1991, 1992, 1993, 1994, 1995, 1996, 1997, 1998, 1999, 2000, 2001, 2002, 2003, 2004, 2005, 2006, 2007, 2008, 2009, 2010, 2011, 2012, 2013, 2014, 2015, 2016, 2017, 2018], \"xaxis\": \"x\", \"y\": [0.006026, 0.019678, 0.026394, 0.038147, 0.039819, 0.043164, 0.064158, 0.088456, 0.141534, 0.153722, 0.239347, 0.412939, 0.583752, 0.910177, 1.272083, 1.899798, 2.111121, 2.701762, 3.024126, 2.775827, 2.739169, 3.007589, 3.131148, 3.202549, 3.552531, 4.075563, 4.380109, 4.753933, 5.586968, 5.602161, 6.10435, 6.422132, 6.479206, 6.410499, 6.693877, 7.075436, 7.086674, 6.596992, 7.067809, 7.610256, 7.862349, 8.028853, 8.145429, 7.959622, 8.222774, 8.16081, 8.214626, 8.458589, 8.426491, 8.35522, 8.434433, 8.268698, 8.061822, 8.244433, 8.337559, 8.336886, 8.426753, 8.418968, 8.438068], \"yaxis\": \"y\"}, {\"hovertemplate\": \"Source=Renewables<br>Year=%{x}<br>Quadrillion BTU=%{y}<extra></extra>\", \"legendgroup\": \"Renewables\", \"line\": {\"color\": \"#9DBF9E\", \"dash\": \"solid\"}, \"mode\": \"lines\", \"name\": \"Renewables\", \"orientation\": \"v\", \"showlegend\": true, \"type\": \"scatter\", \"x\": [1960, 1961, 1962, 1963, 1964, 1965, 1966, 1967, 1968, 1969, 1970, 1971, 1972, 1973, 1974, 1975, 1976, 1977, 1978, 1979, 1980, 1981, 1982, 1983, 1984, 1985, 1986, 1987, 1988, 1989, 1990, 1991, 1992, 1993, 1994, 1995, 1996, 1997, 1998, 1999, 2000, 2001, 2002, 2003, 2004, 2005, 2006, 2007, 2008, 2009, 2010, 2011, 2012, 2013, 2014, 2015, 2016, 2017, 2018], \"xaxis\": \"x\", \"y\": [2.928205, 2.952227, 3.117444, 3.096431, 3.225249, 3.395816, 3.432463, 3.690213, 3.772655, 4.094893, 4.070021, 4.262212, 4.382009, 4.410938, 4.741851, 4.687119, 4.727151, 4.208966, 5.005439, 5.122854, 5.424534, 5.417152, 5.980929, 6.495612, 6.438347, 6.084017, 6.11114, 5.624499, 5.456754, 6.234663, 6.041894, 6.067787, 5.820551, 6.079367, 5.987153, 6.559368, 7.012393, 7.01164, 6.491325, 6.514712, 6.10427, 5.16433, 5.726116, 5.944164, 6.074727, 6.232013, 6.636869, 6.52311, 7.174689, 7.608304, 8.266858, 9.203643, 8.846565, 9.420387, 9.712292, 9.68707, 10.328978, 11.046868, 11.281563], \"yaxis\": \"y\"}],                        {\"hovermode\": \"x\", \"legend\": {\"title\": {\"text\": \"Source\"}, \"tracegroupgap\": 0}, \"margin\": {\"t\": 60}, \"shapes\": [{\"fillcolor\": \"LightCoral\", \"layer\": \"below\", \"line\": {\"width\": 1}, \"opacity\": 0.5, \"type\": \"rect\", \"x0\": \"1960-01-01\", \"x1\": \"1961-01-01\", \"xref\": \"x\", \"y0\": 0, \"y1\": 1, \"yref\": \"y domain\"}, {\"fillcolor\": \"SkyBlue\", \"layer\": \"below\", \"line\": {\"width\": 1}, \"opacity\": 0.5, \"type\": \"rect\", \"x0\": \"1961-01-01\", \"x1\": \"1963-01-01\", \"xref\": \"x\", \"y0\": 0, \"y1\": 1, \"yref\": \"y domain\"}, {\"fillcolor\": \"SkyBlue\", \"layer\": \"below\", \"line\": {\"width\": 1}, \"opacity\": 0.5, \"type\": \"rect\", \"x0\": \"1963-01-01\", \"x1\": \"1969-01-01\", \"xref\": \"x\", \"y0\": 0, \"y1\": 1, \"yref\": \"y domain\"}, {\"fillcolor\": \"LightCoral\", \"layer\": \"below\", \"line\": {\"width\": 1}, \"opacity\": 0.5, \"type\": \"rect\", \"x0\": \"1969-01-01\", \"x1\": \"1974-01-01\", \"xref\": \"x\", \"y0\": 0, \"y1\": 1, \"yref\": \"y domain\"}, {\"fillcolor\": \"LightCoral\", \"layer\": \"below\", \"line\": {\"width\": 1}, \"opacity\": 0.5, \"type\": \"rect\", \"x0\": \"1974-01-01\", \"x1\": \"1977-01-01\", \"xref\": \"x\", \"y0\": 0, \"y1\": 1, \"yref\": \"y domain\"}, {\"fillcolor\": \"SkyBlue\", \"layer\": \"below\", \"line\": {\"width\": 1}, \"opacity\": 0.5, \"type\": \"rect\", \"x0\": \"1977-01-01\", \"x1\": \"1981-01-01\", \"xref\": \"x\", \"y0\": 0, \"y1\": 1, \"yref\": \"y domain\"}, {\"fillcolor\": \"LightCoral\", \"layer\": \"below\", \"line\": {\"width\": 1}, \"opacity\": 0.5, \"type\": \"rect\", \"x0\": \"1981-01-01\", \"x1\": \"1989-01-01\", \"xref\": \"x\", \"y0\": 0, \"y1\": 1, \"yref\": \"y domain\"}, {\"fillcolor\": \"LightCoral\", \"layer\": \"below\", \"line\": {\"width\": 1}, \"opacity\": 0.5, \"type\": \"rect\", \"x0\": \"1989-01-01\", \"x1\": \"1993-01-01\", \"xref\": \"x\", \"y0\": 0, \"y1\": 1, \"yref\": \"y domain\"}, {\"fillcolor\": \"SkyBlue\", \"layer\": \"below\", \"line\": {\"width\": 1}, \"opacity\": 0.5, \"type\": \"rect\", \"x0\": \"1993-01-01\", \"x1\": \"2001-01-01\", \"xref\": \"x\", \"y0\": 0, \"y1\": 1, \"yref\": \"y domain\"}, {\"fillcolor\": \"LightCoral\", \"layer\": \"below\", \"line\": {\"width\": 1}, \"opacity\": 0.5, \"type\": \"rect\", \"x0\": \"2001-01-01\", \"x1\": \"2009-01-01\", \"xref\": \"x\", \"y0\": 0, \"y1\": 1, \"yref\": \"y domain\"}, {\"fillcolor\": \"SkyBlue\", \"layer\": \"below\", \"line\": {\"width\": 1}, \"opacity\": 0.5, \"type\": \"rect\", \"x0\": \"2009-01-01\", \"x1\": \"2017-01-01\", \"xref\": \"x\", \"y0\": 0, \"y1\": 1, \"yref\": \"y domain\"}, {\"fillcolor\": \"LightCoral\", \"layer\": \"below\", \"line\": {\"width\": 1}, \"opacity\": 0.5, \"type\": \"rect\", \"x0\": \"2017-01-01\", \"x1\": \"2018-01-01\", \"xref\": \"x\", \"y0\": 0, \"y1\": 1, \"yref\": \"y domain\"}], \"template\": {\"data\": {\"bar\": [{\"error_x\": {\"color\": \"#2a3f5f\"}, \"error_y\": {\"color\": \"#2a3f5f\"}, \"marker\": {\"line\": {\"color\": \"#E5ECF6\", \"width\": 0.5}}, \"type\": \"bar\"}], \"barpolar\": [{\"marker\": {\"line\": {\"color\": \"#E5ECF6\", \"width\": 0.5}}, \"type\": \"barpolar\"}], \"carpet\": [{\"aaxis\": {\"endlinecolor\": \"#2a3f5f\", \"gridcolor\": \"white\", \"linecolor\": \"white\", \"minorgridcolor\": \"white\", \"startlinecolor\": \"#2a3f5f\"}, \"baxis\": {\"endlinecolor\": \"#2a3f5f\", \"gridcolor\": \"white\", \"linecolor\": \"white\", \"minorgridcolor\": \"white\", \"startlinecolor\": \"#2a3f5f\"}, \"type\": \"carpet\"}], \"choropleth\": [{\"colorbar\": {\"outlinewidth\": 0, \"ticks\": \"\"}, \"type\": \"choropleth\"}], \"contour\": [{\"colorbar\": {\"outlinewidth\": 0, \"ticks\": \"\"}, \"colorscale\": [[0.0, \"#0d0887\"], [0.1111111111111111, \"#46039f\"], [0.2222222222222222, \"#7201a8\"], [0.3333333333333333, \"#9c179e\"], [0.4444444444444444, \"#bd3786\"], [0.5555555555555556, \"#d8576b\"], [0.6666666666666666, \"#ed7953\"], [0.7777777777777778, \"#fb9f3a\"], [0.8888888888888888, \"#fdca26\"], [1.0, \"#f0f921\"]], \"type\": \"contour\"}], \"contourcarpet\": [{\"colorbar\": {\"outlinewidth\": 0, \"ticks\": \"\"}, \"type\": \"contourcarpet\"}], \"heatmap\": [{\"colorbar\": {\"outlinewidth\": 0, \"ticks\": \"\"}, \"colorscale\": [[0.0, \"#0d0887\"], [0.1111111111111111, \"#46039f\"], [0.2222222222222222, \"#7201a8\"], [0.3333333333333333, \"#9c179e\"], [0.4444444444444444, \"#bd3786\"], [0.5555555555555556, \"#d8576b\"], [0.6666666666666666, \"#ed7953\"], [0.7777777777777778, \"#fb9f3a\"], [0.8888888888888888, \"#fdca26\"], [1.0, \"#f0f921\"]], \"type\": \"heatmap\"}], \"heatmapgl\": [{\"colorbar\": {\"outlinewidth\": 0, \"ticks\": \"\"}, \"colorscale\": [[0.0, \"#0d0887\"], [0.1111111111111111, \"#46039f\"], [0.2222222222222222, \"#7201a8\"], [0.3333333333333333, \"#9c179e\"], [0.4444444444444444, \"#bd3786\"], [0.5555555555555556, \"#d8576b\"], [0.6666666666666666, \"#ed7953\"], [0.7777777777777778, \"#fb9f3a\"], [0.8888888888888888, \"#fdca26\"], [1.0, \"#f0f921\"]], \"type\": \"heatmapgl\"}], \"histogram\": [{\"marker\": {\"colorbar\": {\"outlinewidth\": 0, \"ticks\": \"\"}}, \"type\": \"histogram\"}], \"histogram2d\": [{\"colorbar\": {\"outlinewidth\": 0, \"ticks\": \"\"}, \"colorscale\": [[0.0, \"#0d0887\"], [0.1111111111111111, \"#46039f\"], [0.2222222222222222, \"#7201a8\"], [0.3333333333333333, \"#9c179e\"], [0.4444444444444444, \"#bd3786\"], [0.5555555555555556, \"#d8576b\"], [0.6666666666666666, \"#ed7953\"], [0.7777777777777778, \"#fb9f3a\"], [0.8888888888888888, \"#fdca26\"], [1.0, \"#f0f921\"]], \"type\": \"histogram2d\"}], \"histogram2dcontour\": [{\"colorbar\": {\"outlinewidth\": 0, \"ticks\": \"\"}, \"colorscale\": [[0.0, \"#0d0887\"], [0.1111111111111111, \"#46039f\"], [0.2222222222222222, \"#7201a8\"], [0.3333333333333333, \"#9c179e\"], [0.4444444444444444, \"#bd3786\"], [0.5555555555555556, \"#d8576b\"], [0.6666666666666666, \"#ed7953\"], [0.7777777777777778, \"#fb9f3a\"], [0.8888888888888888, \"#fdca26\"], [1.0, \"#f0f921\"]], \"type\": \"histogram2dcontour\"}], \"mesh3d\": [{\"colorbar\": {\"outlinewidth\": 0, \"ticks\": \"\"}, \"type\": \"mesh3d\"}], \"parcoords\": [{\"line\": {\"colorbar\": {\"outlinewidth\": 0, \"ticks\": \"\"}}, \"type\": \"parcoords\"}], \"pie\": [{\"automargin\": true, \"type\": \"pie\"}], \"scatter\": [{\"marker\": {\"colorbar\": {\"outlinewidth\": 0, \"ticks\": \"\"}}, \"type\": \"scatter\"}], \"scatter3d\": [{\"line\": {\"colorbar\": {\"outlinewidth\": 0, \"ticks\": \"\"}}, \"marker\": {\"colorbar\": {\"outlinewidth\": 0, \"ticks\": \"\"}}, \"type\": \"scatter3d\"}], \"scattercarpet\": [{\"marker\": {\"colorbar\": {\"outlinewidth\": 0, \"ticks\": \"\"}}, \"type\": \"scattercarpet\"}], \"scattergeo\": [{\"marker\": {\"colorbar\": {\"outlinewidth\": 0, \"ticks\": \"\"}}, \"type\": \"scattergeo\"}], \"scattergl\": [{\"marker\": {\"colorbar\": {\"outlinewidth\": 0, \"ticks\": \"\"}}, \"type\": \"scattergl\"}], \"scattermapbox\": [{\"marker\": {\"colorbar\": {\"outlinewidth\": 0, \"ticks\": \"\"}}, \"type\": \"scattermapbox\"}], \"scatterpolar\": [{\"marker\": {\"colorbar\": {\"outlinewidth\": 0, \"ticks\": \"\"}}, \"type\": \"scatterpolar\"}], \"scatterpolargl\": [{\"marker\": {\"colorbar\": {\"outlinewidth\": 0, \"ticks\": \"\"}}, \"type\": \"scatterpolargl\"}], \"scatterternary\": [{\"marker\": {\"colorbar\": {\"outlinewidth\": 0, \"ticks\": \"\"}}, \"type\": \"scatterternary\"}], \"surface\": [{\"colorbar\": {\"outlinewidth\": 0, \"ticks\": \"\"}, \"colorscale\": [[0.0, \"#0d0887\"], [0.1111111111111111, \"#46039f\"], [0.2222222222222222, \"#7201a8\"], [0.3333333333333333, \"#9c179e\"], [0.4444444444444444, \"#bd3786\"], [0.5555555555555556, \"#d8576b\"], [0.6666666666666666, \"#ed7953\"], [0.7777777777777778, \"#fb9f3a\"], [0.8888888888888888, \"#fdca26\"], [1.0, \"#f0f921\"]], \"type\": \"surface\"}], \"table\": [{\"cells\": {\"fill\": {\"color\": \"#EBF0F8\"}, \"line\": {\"color\": \"white\"}}, \"header\": {\"fill\": {\"color\": \"#C8D4E3\"}, \"line\": {\"color\": \"white\"}}, \"type\": \"table\"}]}, \"layout\": {\"annotationdefaults\": {\"arrowcolor\": \"#2a3f5f\", \"arrowhead\": 0, \"arrowwidth\": 1}, \"autotypenumbers\": \"strict\", \"coloraxis\": {\"colorbar\": {\"outlinewidth\": 0, \"ticks\": \"\"}}, \"colorscale\": {\"diverging\": [[0, \"#8e0152\"], [0.1, \"#c51b7d\"], [0.2, \"#de77ae\"], [0.3, \"#f1b6da\"], [0.4, \"#fde0ef\"], [0.5, \"#f7f7f7\"], [0.6, \"#e6f5d0\"], [0.7, \"#b8e186\"], [0.8, \"#7fbc41\"], [0.9, \"#4d9221\"], [1, \"#276419\"]], \"sequential\": [[0.0, \"#0d0887\"], [0.1111111111111111, \"#46039f\"], [0.2222222222222222, \"#7201a8\"], [0.3333333333333333, \"#9c179e\"], [0.4444444444444444, \"#bd3786\"], [0.5555555555555556, \"#d8576b\"], [0.6666666666666666, \"#ed7953\"], [0.7777777777777778, \"#fb9f3a\"], [0.8888888888888888, \"#fdca26\"], [1.0, \"#f0f921\"]], \"sequentialminus\": [[0.0, \"#0d0887\"], [0.1111111111111111, \"#46039f\"], [0.2222222222222222, \"#7201a8\"], [0.3333333333333333, \"#9c179e\"], [0.4444444444444444, \"#bd3786\"], [0.5555555555555556, \"#d8576b\"], [0.6666666666666666, \"#ed7953\"], [0.7777777777777778, \"#fb9f3a\"], [0.8888888888888888, \"#fdca26\"], [1.0, \"#f0f921\"]]}, \"colorway\": [\"#636efa\", \"#EF553B\", \"#00cc96\", \"#ab63fa\", \"#FFA15A\", \"#19d3f3\", \"#FF6692\", \"#B6E880\", \"#FF97FF\", \"#FECB52\"], \"font\": {\"color\": \"#2a3f5f\"}, \"geo\": {\"bgcolor\": \"white\", \"lakecolor\": \"white\", \"landcolor\": \"#E5ECF6\", \"showlakes\": true, \"showland\": true, \"subunitcolor\": \"white\"}, \"hoverlabel\": {\"align\": \"left\"}, \"hovermode\": \"closest\", \"mapbox\": {\"style\": \"light\"}, \"paper_bgcolor\": \"white\", \"plot_bgcolor\": \"#E5ECF6\", \"polar\": {\"angularaxis\": {\"gridcolor\": \"white\", \"linecolor\": \"white\", \"ticks\": \"\"}, \"bgcolor\": \"#E5ECF6\", \"radialaxis\": {\"gridcolor\": \"white\", \"linecolor\": \"white\", \"ticks\": \"\"}}, \"scene\": {\"xaxis\": {\"backgroundcolor\": \"#E5ECF6\", \"gridcolor\": \"white\", \"gridwidth\": 2, \"linecolor\": \"white\", \"showbackground\": true, \"ticks\": \"\", \"zerolinecolor\": \"white\"}, \"yaxis\": {\"backgroundcolor\": \"#E5ECF6\", \"gridcolor\": \"white\", \"gridwidth\": 2, \"linecolor\": \"white\", \"showbackground\": true, \"ticks\": \"\", \"zerolinecolor\": \"white\"}, \"zaxis\": {\"backgroundcolor\": \"#E5ECF6\", \"gridcolor\": \"white\", \"gridwidth\": 2, \"linecolor\": \"white\", \"showbackground\": true, \"ticks\": \"\", \"zerolinecolor\": \"white\"}}, \"shapedefaults\": {\"line\": {\"color\": \"#2a3f5f\"}}, \"ternary\": {\"aaxis\": {\"gridcolor\": \"white\", \"linecolor\": \"white\", \"ticks\": \"\"}, \"baxis\": {\"gridcolor\": \"white\", \"linecolor\": \"white\", \"ticks\": \"\"}, \"bgcolor\": \"#E5ECF6\", \"caxis\": {\"gridcolor\": \"white\", \"linecolor\": \"white\", \"ticks\": \"\"}}, \"title\": {\"x\": 0.05}, \"xaxis\": {\"automargin\": true, \"gridcolor\": \"white\", \"linecolor\": \"white\", \"ticks\": \"\", \"title\": {\"standoff\": 15}, \"zerolinecolor\": \"white\", \"zerolinewidth\": 2}, \"yaxis\": {\"automargin\": true, \"gridcolor\": \"white\", \"linecolor\": \"white\", \"ticks\": \"\", \"title\": {\"standoff\": 15}, \"zerolinecolor\": \"white\", \"zerolinewidth\": 2}}}, \"xaxis\": {\"anchor\": \"y\", \"domain\": [0.0, 1.0], \"rangeselector\": {\"buttons\": [{\"count\": 58, \"label\": \"1960\", \"step\": \"year\", \"stepmode\": \"backward\"}, {\"count\": 48, \"label\": \"1970\", \"step\": \"year\", \"stepmode\": \"backward\"}, {\"count\": 38, \"label\": \"1980\", \"step\": \"year\", \"stepmode\": \"backward\"}, {\"count\": 28, \"label\": \"1990\", \"step\": \"year\", \"stepmode\": \"backward\"}, {\"count\": 18, \"label\": \"2000\", \"step\": \"year\", \"stepmode\": \"backward\"}, {\"count\": 8, \"label\": \"2010\", \"step\": \"year\", \"stepmode\": \"backward\"}]}, \"showgrid\": false, \"showspikes\": true, \"ticktext\": [\"John F. Kennedy\", \"Lyndon B. Johnson\", \"Richard Nixon\", \"Gerald Ford\", \"Jimmy Carter\", \"Ronald Reagan\", \"George H.W. Bush\", \"Bill Clinton\", \"George W. Bush\", \"Barack Obama\", \"Donald Trump\"], \"tickvals\": [\"1961-01-01\", \"1963-01-01\", \"1969-01-01\", \"1974-01-01\", \"1977-01-01\", \"1981-01-01\", \"1989-01-01\", \"1993-01-01\", \"2001-01-01\", \"2009-01-01\", \"2017-01-01\"], \"title\": {\"text\": \"President\"}, \"type\": \"date\"}, \"yaxis\": {\"anchor\": \"x\", \"domain\": [0.0, 1.0], \"showgrid\": false, \"showspikes\": true, \"title\": {\"text\": \"Quadrillion BTU\"}}},                        {\"responsive\": true}                    ).then(function(){\n",
       "                            \n",
       "var gd = document.getElementById('c802c55c-4dfd-4245-8ec6-4d66cd752c68');\n",
       "var x = new MutationObserver(function (mutations, observer) {{\n",
       "        var display = window.getComputedStyle(gd).display;\n",
       "        if (!display || display === 'none') {{\n",
       "            console.log([gd, 'removed!']);\n",
       "            Plotly.purge(gd);\n",
       "            observer.disconnect();\n",
       "        }}\n",
       "}});\n",
       "\n",
       "// Listen for the removal of the full notebook cells\n",
       "var notebookContainer = gd.closest('#notebook-container');\n",
       "if (notebookContainer) {{\n",
       "    x.observe(notebookContainer, {childList: true});\n",
       "}}\n",
       "\n",
       "// Listen for the clearing of the current output cell\n",
       "var outputEl = gd.closest('.output');\n",
       "if (outputEl) {{\n",
       "    x.observe(outputEl, {childList: true});\n",
       "}}\n",
       "\n",
       "                        })                };                });            </script>        </div>"
      ]
     },
     "metadata": {},
     "output_type": "display_data"
    }
   ],
   "source": [
    "test_df = test_df.rename(columns={\"BTU\": \"Quadrillion BTU\"})\n",
    "test_df[\"Quadrillion BTU\"] = test_df[\"Quadrillion BTU\"]/1_000_000\n",
    "fig = px.line(test_df, x=\"Year\", y=\"Quadrillion BTU\", color=\"Source\", color_discrete_map={\n",
    "    \"Coal\": '#525B76',\n",
    "    \"Nuclear\": '#F4A259',\n",
    "    \"Petroleum\": '#7A89C2',\n",
    "    # \"Gas\": '#F9B5AC',\n",
    "    \"Natural gas\": '#EE7674',\n",
    "    \"Renewables\": '#9DBF9E',\n",
    "})\n",
    "fig.update_xaxes(showspikes=True, showgrid=False, title=\"President\")\n",
    "fig.update_yaxes(showspikes=True, showgrid=False, title=\"Quadrillion BTU\")\n",
    "fig.update_layout(hovermode=\"x\")\n",
    "# fig.add_shape(type=\"rect\",\n",
    "#     xref=\"x\", yref=\"y\",\n",
    "#     x0=\"2000-01-01\", y0=0,\n",
    "#     x1=\"2010-01-01\", y1=100,\n",
    "#     line=dict(\n",
    "#         color=\"RoyalBlue\",\n",
    "#         width=3,\n",
    "#     ),\n",
    "#     fillcolor=\"LightSkyBlue\",\n",
    "# )\n",
    "fig.update_layout(\n",
    "    xaxis=dict(\n",
    "        rangeselector=dict(\n",
    "            buttons=list([\n",
    "                dict(count=58,\n",
    "                     label=\"1960\",\n",
    "                     step=\"year\",\n",
    "                     stepmode=\"backward\"),\n",
    "                dict(count=48,\n",
    "                     label=\"1970\",\n",
    "                     step=\"year\",\n",
    "                     stepmode=\"backward\"),\n",
    "                dict(count=38,\n",
    "                     label=\"1980\",\n",
    "                     step=\"year\",\n",
    "                     stepmode=\"backward\"),\n",
    "                dict(count=28,\n",
    "                     label=\"1990\",\n",
    "                     step=\"year\",\n",
    "                     stepmode=\"backward\"),\n",
    "                dict(count=18,\n",
    "                     label=\"2000\",\n",
    "                     step=\"year\",\n",
    "                     stepmode=\"backward\"),\n",
    "                dict(count=8,\n",
    "                     label=\"2010\",\n",
    "                     step=\"year\",\n",
    "                     stepmode=\"backward\"),\n",
    "            ])\n",
    "        ),\n",
    "        type=\"date\"\n",
    "    )\n",
    ")\n",
    "fig.add_vrect(\n",
    "    x0=\"1960-01-01\", x1=\"1961-01-01\",\n",
    "    fillcolor=\"LightCoral\", opacity=0.5,\n",
    "    layer=\"below\", line_width=1,\n",
    "),\n",
    "fig.add_vrect(\n",
    "    x0=\"1961-01-01\", x1=\"1963-01-01\",\n",
    "    fillcolor=\"SkyBlue\", opacity=0.5,\n",
    "    layer=\"below\", line_width=1,\n",
    "),\n",
    "fig.add_vrect(\n",
    "    x0=\"1963-01-01\", x1=\"1969-01-01\",\n",
    "    fillcolor=\"SkyBlue\", opacity=0.5,\n",
    "    layer=\"below\", line_width=1,\n",
    "),\n",
    "fig.add_vrect(\n",
    "    x0=\"1969-01-01\", x1=\"1974-01-01\",\n",
    "    fillcolor=\"LightCoral\", opacity=0.5,\n",
    "    layer=\"below\", line_width=1,\n",
    "),\n",
    "fig.add_vrect(\n",
    "    x0=\"1974-01-01\", x1=\"1977-01-01\",\n",
    "    fillcolor=\"LightCoral\", opacity=0.5,\n",
    "    layer=\"below\", line_width=1,\n",
    "),\n",
    "fig.add_vrect(\n",
    "    x0=\"1977-01-01\", x1=\"1981-01-01\",\n",
    "    fillcolor=\"SkyBlue\", opacity=0.5,\n",
    "    layer=\"below\", line_width=1,\n",
    "),\n",
    "fig.add_vrect(\n",
    "    x0=\"1981-01-01\", x1=\"1989-01-01\",\n",
    "    fillcolor=\"LightCoral\", opacity=0.5,\n",
    "    layer=\"below\", line_width=1,\n",
    "),\n",
    "fig.add_vrect(\n",
    "    x0=\"1989-01-01\", x1=\"1993-01-01\",\n",
    "    fillcolor=\"LightCoral\", opacity=0.5,\n",
    "    layer=\"below\", line_width=1,\n",
    "),\n",
    "fig.add_vrect(\n",
    "    x0=\"1993-01-01\", x1=\"2001-01-01\",\n",
    "    fillcolor=\"SkyBlue\", opacity=0.5,\n",
    "    layer=\"below\", line_width=1,\n",
    ")\n",
    "fig.add_vrect(\n",
    "    x0=\"2001-01-01\", x1=\"2009-01-01\",\n",
    "    fillcolor=\"LightCoral\", opacity=0.5,\n",
    "    layer=\"below\", line_width=1,\n",
    ")\n",
    "fig.add_vrect(\n",
    "    x0=\"2009-01-01\", x1=\"2017-01-01\",\n",
    "    fillcolor=\"SkyBlue\", opacity=0.5,\n",
    "    layer=\"below\", line_width=1,\n",
    ")\n",
    "fig.add_vrect(\n",
    "    x0=\"2017-01-01\", x1=\"2018-01-01\",\n",
    "    fillcolor=\"LightCoral\", opacity=0.5,\n",
    "    layer=\"below\", line_width=1,\n",
    ")\n",
    "\n",
    "fig.update_xaxes(\n",
    "    ticktext=[\"John F. Kennedy\", \"Lyndon B. Johnson\",\"Richard Nixon\",\"Gerald Ford\",\"Jimmy Carter\",\"Ronald Reagan\",\"George H.W. Bush\",\"Bill Clinton\",\"George W. Bush\",\"Barack Obama\",\"Donald Trump\",],\n",
    "    tickvals=[\"1961-01-01\", \"1963-01-01\", \"1969-01-01\", \"1974-01-01\", \"1977-01-01\", \"1981-01-01\", \"1989-01-01\", \"1993-01-01\", \"2001-01-01\", \"2009-01-01\", \"2017-01-01\"],\n",
    ")\n",
    "fig.show()"
   ]
  },
  {
   "cell_type": "code",
   "execution_count": 292,
   "metadata": {},
   "outputs": [
    {
     "ename": "ValueError",
     "evalue": "Value of 'y' is not the name of a column in 'data_frame'. Expected one of ['Year', 'Quadrillion BTU'] but received: BTU",
     "output_type": "error",
     "traceback": [
      "\u001b[1;31m---------------------------------------------------------------------------\u001b[0m",
      "\u001b[1;31mValueError\u001b[0m                                Traceback (most recent call last)",
      "\u001b[1;32m<ipython-input-292-eb264d2e2e91>\u001b[0m in \u001b[0;36m<module>\u001b[1;34m\u001b[0m\n\u001b[0;32m      1\u001b[0m \u001b[0mz\u001b[0m \u001b[1;33m=\u001b[0m \u001b[0mtest_df\u001b[0m\u001b[1;33m.\u001b[0m\u001b[0mgroupby\u001b[0m\u001b[1;33m(\u001b[0m\u001b[1;34m\"Year\"\u001b[0m\u001b[1;33m,\u001b[0m \u001b[0mas_index\u001b[0m\u001b[1;33m=\u001b[0m\u001b[1;32mFalse\u001b[0m\u001b[1;33m)\u001b[0m\u001b[1;33m.\u001b[0m\u001b[0msum\u001b[0m\u001b[1;33m(\u001b[0m\u001b[1;33m)\u001b[0m\u001b[1;33m\u001b[0m\u001b[1;33m\u001b[0m\u001b[0m\n\u001b[1;32m----> 2\u001b[1;33m \u001b[0mfig\u001b[0m \u001b[1;33m=\u001b[0m \u001b[0mpx\u001b[0m\u001b[1;33m.\u001b[0m\u001b[0mline\u001b[0m\u001b[1;33m(\u001b[0m\u001b[0mz\u001b[0m\u001b[1;33m,\u001b[0m \u001b[0mx\u001b[0m\u001b[1;33m=\u001b[0m\u001b[1;34m\"Year\"\u001b[0m\u001b[1;33m,\u001b[0m \u001b[0my\u001b[0m\u001b[1;33m=\u001b[0m\u001b[1;34m\"BTU\"\u001b[0m\u001b[1;33m)\u001b[0m\u001b[1;33m\u001b[0m\u001b[1;33m\u001b[0m\u001b[0m\n\u001b[0m\u001b[0;32m      3\u001b[0m \u001b[0mfig\u001b[0m\u001b[1;33m.\u001b[0m\u001b[0mshow\u001b[0m\u001b[1;33m(\u001b[0m\u001b[1;33m)\u001b[0m\u001b[1;33m\u001b[0m\u001b[1;33m\u001b[0m\u001b[0m\n",
      "\u001b[1;32m~\\anaconda3\\lib\\site-packages\\plotly\\express\\_chart_types.py\u001b[0m in \u001b[0;36mline\u001b[1;34m(data_frame, x, y, line_group, color, line_dash, hover_name, hover_data, custom_data, text, facet_row, facet_col, facet_col_wrap, facet_row_spacing, facet_col_spacing, error_x, error_x_minus, error_y, error_y_minus, animation_frame, animation_group, category_orders, labels, orientation, color_discrete_sequence, color_discrete_map, line_dash_sequence, line_dash_map, log_x, log_y, range_x, range_y, line_shape, render_mode, title, template, width, height)\u001b[0m\n\u001b[0;32m    250\u001b[0m     \u001b[0ma\u001b[0m \u001b[0mpolyline\u001b[0m \u001b[0mmark\u001b[0m \u001b[1;32min\u001b[0m \u001b[1;36m2\u001b[0m\u001b[0mD\u001b[0m \u001b[0mspace\u001b[0m\u001b[1;33m.\u001b[0m\u001b[1;33m\u001b[0m\u001b[1;33m\u001b[0m\u001b[0m\n\u001b[0;32m    251\u001b[0m     \"\"\"\n\u001b[1;32m--> 252\u001b[1;33m     \u001b[1;32mreturn\u001b[0m \u001b[0mmake_figure\u001b[0m\u001b[1;33m(\u001b[0m\u001b[0margs\u001b[0m\u001b[1;33m=\u001b[0m\u001b[0mlocals\u001b[0m\u001b[1;33m(\u001b[0m\u001b[1;33m)\u001b[0m\u001b[1;33m,\u001b[0m \u001b[0mconstructor\u001b[0m\u001b[1;33m=\u001b[0m\u001b[0mgo\u001b[0m\u001b[1;33m.\u001b[0m\u001b[0mScatter\u001b[0m\u001b[1;33m)\u001b[0m\u001b[1;33m\u001b[0m\u001b[1;33m\u001b[0m\u001b[0m\n\u001b[0m\u001b[0;32m    253\u001b[0m \u001b[1;33m\u001b[0m\u001b[0m\n\u001b[0;32m    254\u001b[0m \u001b[1;33m\u001b[0m\u001b[0m\n",
      "\u001b[1;32m~\\anaconda3\\lib\\site-packages\\plotly\\express\\_core.py\u001b[0m in \u001b[0;36mmake_figure\u001b[1;34m(args, constructor, trace_patch, layout_patch)\u001b[0m\n\u001b[0;32m   1859\u001b[0m     \u001b[0mapply_default_cascade\u001b[0m\u001b[1;33m(\u001b[0m\u001b[0margs\u001b[0m\u001b[1;33m)\u001b[0m\u001b[1;33m\u001b[0m\u001b[1;33m\u001b[0m\u001b[0m\n\u001b[0;32m   1860\u001b[0m \u001b[1;33m\u001b[0m\u001b[0m\n\u001b[1;32m-> 1861\u001b[1;33m     \u001b[0margs\u001b[0m \u001b[1;33m=\u001b[0m \u001b[0mbuild_dataframe\u001b[0m\u001b[1;33m(\u001b[0m\u001b[0margs\u001b[0m\u001b[1;33m,\u001b[0m \u001b[0mconstructor\u001b[0m\u001b[1;33m)\u001b[0m\u001b[1;33m\u001b[0m\u001b[1;33m\u001b[0m\u001b[0m\n\u001b[0m\u001b[0;32m   1862\u001b[0m     \u001b[1;32mif\u001b[0m \u001b[0mconstructor\u001b[0m \u001b[1;32min\u001b[0m \u001b[1;33m[\u001b[0m\u001b[0mgo\u001b[0m\u001b[1;33m.\u001b[0m\u001b[0mTreemap\u001b[0m\u001b[1;33m,\u001b[0m \u001b[0mgo\u001b[0m\u001b[1;33m.\u001b[0m\u001b[0mSunburst\u001b[0m\u001b[1;33m]\u001b[0m \u001b[1;32mand\u001b[0m \u001b[0margs\u001b[0m\u001b[1;33m[\u001b[0m\u001b[1;34m\"path\"\u001b[0m\u001b[1;33m]\u001b[0m \u001b[1;32mis\u001b[0m \u001b[1;32mnot\u001b[0m \u001b[1;32mNone\u001b[0m\u001b[1;33m:\u001b[0m\u001b[1;33m\u001b[0m\u001b[1;33m\u001b[0m\u001b[0m\n\u001b[0;32m   1863\u001b[0m         \u001b[0margs\u001b[0m \u001b[1;33m=\u001b[0m \u001b[0mprocess_dataframe_hierarchy\u001b[0m\u001b[1;33m(\u001b[0m\u001b[0margs\u001b[0m\u001b[1;33m)\u001b[0m\u001b[1;33m\u001b[0m\u001b[1;33m\u001b[0m\u001b[0m\n",
      "\u001b[1;32m~\\anaconda3\\lib\\site-packages\\plotly\\express\\_core.py\u001b[0m in \u001b[0;36mbuild_dataframe\u001b[1;34m(args, constructor)\u001b[0m\n\u001b[0;32m   1375\u001b[0m     \u001b[1;31m# now that things have been prepped, we do the systematic rewriting of `args`\u001b[0m\u001b[1;33m\u001b[0m\u001b[1;33m\u001b[0m\u001b[1;33m\u001b[0m\u001b[0m\n\u001b[0;32m   1376\u001b[0m \u001b[1;33m\u001b[0m\u001b[0m\n\u001b[1;32m-> 1377\u001b[1;33m     df_output, wide_id_vars = process_args_into_dataframe(\n\u001b[0m\u001b[0;32m   1378\u001b[0m         \u001b[0margs\u001b[0m\u001b[1;33m,\u001b[0m \u001b[0mwide_mode\u001b[0m\u001b[1;33m,\u001b[0m \u001b[0mvar_name\u001b[0m\u001b[1;33m,\u001b[0m \u001b[0mvalue_name\u001b[0m\u001b[1;33m\u001b[0m\u001b[1;33m\u001b[0m\u001b[0m\n\u001b[0;32m   1379\u001b[0m     )\n",
      "\u001b[1;32m~\\anaconda3\\lib\\site-packages\\plotly\\express\\_core.py\u001b[0m in \u001b[0;36mprocess_args_into_dataframe\u001b[1;34m(args, wide_mode, var_name, value_name)\u001b[0m\n\u001b[0;32m   1181\u001b[0m                         \u001b[1;32mif\u001b[0m \u001b[0margument\u001b[0m \u001b[1;33m==\u001b[0m \u001b[1;34m\"index\"\u001b[0m\u001b[1;33m:\u001b[0m\u001b[1;33m\u001b[0m\u001b[1;33m\u001b[0m\u001b[0m\n\u001b[0;32m   1182\u001b[0m                             \u001b[0merr_msg\u001b[0m \u001b[1;33m+=\u001b[0m \u001b[1;34m\"\\n To use the index, pass it in directly as `df.index`.\"\u001b[0m\u001b[1;33m\u001b[0m\u001b[1;33m\u001b[0m\u001b[0m\n\u001b[1;32m-> 1183\u001b[1;33m                         \u001b[1;32mraise\u001b[0m \u001b[0mValueError\u001b[0m\u001b[1;33m(\u001b[0m\u001b[0merr_msg\u001b[0m\u001b[1;33m)\u001b[0m\u001b[1;33m\u001b[0m\u001b[1;33m\u001b[0m\u001b[0m\n\u001b[0m\u001b[0;32m   1184\u001b[0m                 \u001b[1;32melif\u001b[0m \u001b[0mlength\u001b[0m \u001b[1;32mand\u001b[0m \u001b[0mlen\u001b[0m\u001b[1;33m(\u001b[0m\u001b[0mdf_input\u001b[0m\u001b[1;33m[\u001b[0m\u001b[0margument\u001b[0m\u001b[1;33m]\u001b[0m\u001b[1;33m)\u001b[0m \u001b[1;33m!=\u001b[0m \u001b[0mlength\u001b[0m\u001b[1;33m:\u001b[0m\u001b[1;33m\u001b[0m\u001b[1;33m\u001b[0m\u001b[0m\n\u001b[0;32m   1185\u001b[0m                     raise ValueError(\n",
      "\u001b[1;31mValueError\u001b[0m: Value of 'y' is not the name of a column in 'data_frame'. Expected one of ['Year', 'Quadrillion BTU'] but received: BTU"
     ]
    }
   ],
   "source": [
    "z = test_df.groupby(\"Year\", as_index=False).sum()\n",
    "fig = px.line(z, x=\"Year\", y=\"BTU\")\n",
    "fig.show()"
   ]
  },
  {
   "cell_type": "code",
   "execution_count": null,
   "metadata": {},
   "outputs": [],
   "source": [
    "pc.plot_us_total(df, dp.load_primary_energy_sources(df))\n",
    "\n",
    "# df = dp.load_primary_energy_sources(df)\n",
    "# df = df[(df[\"State\"] == \"United States\") & (df[\"Sector\"] == \"Total\")]\n",
    "# test_df = df.groupby([\"Year\"], as_index=False).sum()\n",
    "# fig = px.line(test_df, x=\"Year\", y=\"BTU\")\n",
    "# fig.show()"
   ]
  },
  {
   "cell_type": "code",
   "execution_count": null,
   "metadata": {},
   "outputs": [],
   "source": [
    "b"
   ]
  },
  {
   "cell_type": "code",
   "execution_count": null,
   "metadata": {},
   "outputs": [],
   "source": [
    "figs = {}\n",
    "for year in df[\"Year\"].unique():\n",
    "    figs[year] = px.bar(test_df[test_df[\"Year\"] == year], x=\"Source\", y=\"BTU\")\n",
    "    print(year)\n",
    "    "
   ]
  },
  {
   "cell_type": "code",
   "execution_count": null,
   "metadata": {},
   "outputs": [],
   "source": [
    "pc.plot_us_total(df, dp.load_primary_energy_sources(df))"
   ]
  },
  {
   "cell_type": "code",
   "execution_count": 21,
   "metadata": {},
   "outputs": [
    {
     "name": "stderr",
     "output_type": "stream",
     "text": [
      "D:\\Programming\\pythonstuff\\US-Energy\\data_processing.py:108: SettingWithCopyWarning: \n",
      "A value is trying to be set on a copy of a slice from a DataFrame.\n",
      "Try using .loc[row_indexer,col_indexer] = value instead\n",
      "\n",
      "See the caveats in the documentation: https://pandas.pydata.org/pandas-docs/stable/user_guide/indexing.html#returning-a-view-versus-a-copy\n",
      "  df[\"Source\"] = df[\"Source\"].replace(\n"
     ]
    },
    {
     "data": {
      "text/html": [
       "<div>\n",
       "<style scoped>\n",
       "    .dataframe tbody tr th:only-of-type {\n",
       "        vertical-align: middle;\n",
       "    }\n",
       "\n",
       "    .dataframe tbody tr th {\n",
       "        vertical-align: top;\n",
       "    }\n",
       "\n",
       "    .dataframe thead th {\n",
       "        text-align: right;\n",
       "    }\n",
       "</style>\n",
       "<table border=\"1\" class=\"dataframe\">\n",
       "  <thead>\n",
       "    <tr style=\"text-align: right;\">\n",
       "      <th></th>\n",
       "      <th>State</th>\n",
       "      <th>Source</th>\n",
       "      <th>Sector</th>\n",
       "      <th>Unit</th>\n",
       "      <th>Year</th>\n",
       "      <th>BTU</th>\n",
       "    </tr>\n",
       "  </thead>\n",
       "  <tbody>\n",
       "    <tr>\n",
       "      <th>17</th>\n",
       "      <td>Alaska</td>\n",
       "      <td>Coal</td>\n",
       "      <td>Total</td>\n",
       "      <td>Billion BTU</td>\n",
       "      <td>1960</td>\n",
       "      <td>7189.0</td>\n",
       "    </tr>\n",
       "    <tr>\n",
       "      <th>86</th>\n",
       "      <td>Alaska</td>\n",
       "      <td>Natural gas</td>\n",
       "      <td>Total</td>\n",
       "      <td>Billion BTU</td>\n",
       "      <td>1960</td>\n",
       "      <td>2034.0</td>\n",
       "    </tr>\n",
       "    <tr>\n",
       "      <th>87</th>\n",
       "      <td>Alaska</td>\n",
       "      <td>Nuclear</td>\n",
       "      <td>Total</td>\n",
       "      <td>Billion BTU</td>\n",
       "      <td>1960</td>\n",
       "      <td>0.0</td>\n",
       "    </tr>\n",
       "    <tr>\n",
       "      <th>101</th>\n",
       "      <td>Alaska</td>\n",
       "      <td>Petroleum</td>\n",
       "      <td>Total</td>\n",
       "      <td>Billion BTU</td>\n",
       "      <td>1960</td>\n",
       "      <td>45410.0</td>\n",
       "    </tr>\n",
       "    <tr>\n",
       "      <th>111</th>\n",
       "      <td>Alaska</td>\n",
       "      <td>Renewables</td>\n",
       "      <td>Total</td>\n",
       "      <td>Billion BTU</td>\n",
       "      <td>1960</td>\n",
       "      <td>6800.0</td>\n",
       "    </tr>\n",
       "    <tr>\n",
       "      <th>134</th>\n",
       "      <td>Alaska</td>\n",
       "      <td>Total</td>\n",
       "      <td>Total consumption per capita</td>\n",
       "      <td>Million BTU</td>\n",
       "      <td>1960</td>\n",
       "      <td>268.3</td>\n",
       "    </tr>\n",
       "  </tbody>\n",
       "</table>\n",
       "</div>"
      ],
      "text/plain": [
       "      State       Source                        Sector         Unit  Year  \\\n",
       "17   Alaska         Coal                         Total  Billion BTU  1960   \n",
       "86   Alaska  Natural gas                         Total  Billion BTU  1960   \n",
       "87   Alaska      Nuclear                         Total  Billion BTU  1960   \n",
       "101  Alaska    Petroleum                         Total  Billion BTU  1960   \n",
       "111  Alaska   Renewables                         Total  Billion BTU  1960   \n",
       "134  Alaska        Total  Total consumption per capita  Million BTU  1960   \n",
       "\n",
       "         BTU  \n",
       "17    7189.0  \n",
       "86    2034.0  \n",
       "87       0.0  \n",
       "101  45410.0  \n",
       "111   6800.0  \n",
       "134    268.3  "
      ]
     },
     "execution_count": 21,
     "metadata": {},
     "output_type": "execute_result"
    }
   ],
   "source": [
    "df = dp.load_dataset()\n",
    "primary_df = dp.load_primary_energy_sources(df)\n",
    "primary_df = dp.data_subset(primary_df, sectors=[\"Total\"])\n",
    "per_cap_df = dp.data_subset(df, states = [state for state in df[\"State\"].unique() if state != \"United States\"], sources=[\"Total\"], sectors=[\"Total consumption per capita\"])\n",
    "combined_df = pd.concat([primary_df, per_cap_df])"
   ]
  },
  {
   "cell_type": "code",
   "execution_count": 25,
   "metadata": {},
   "outputs": [
    {
     "data": {
      "text/html": [
       "<div>\n",
       "<style scoped>\n",
       "    .dataframe tbody tr th:only-of-type {\n",
       "        vertical-align: middle;\n",
       "    }\n",
       "\n",
       "    .dataframe tbody tr th {\n",
       "        vertical-align: top;\n",
       "    }\n",
       "\n",
       "    .dataframe thead th {\n",
       "        text-align: right;\n",
       "    }\n",
       "</style>\n",
       "<table border=\"1\" class=\"dataframe\">\n",
       "  <thead>\n",
       "    <tr style=\"text-align: right;\">\n",
       "      <th></th>\n",
       "      <th></th>\n",
       "      <th>BTU</th>\n",
       "    </tr>\n",
       "    <tr>\n",
       "      <th>State</th>\n",
       "      <th>Year</th>\n",
       "      <th></th>\n",
       "    </tr>\n",
       "  </thead>\n",
       "  <tbody>\n",
       "    <tr>\n",
       "      <th rowspan=\"5\" valign=\"top\">Alabama</th>\n",
       "      <th>1960</th>\n",
       "      <td>934925.0</td>\n",
       "    </tr>\n",
       "    <tr>\n",
       "      <th>1961</th>\n",
       "      <td>924371.0</td>\n",
       "    </tr>\n",
       "    <tr>\n",
       "      <th>1962</th>\n",
       "      <td>993378.0</td>\n",
       "    </tr>\n",
       "    <tr>\n",
       "      <th>1963</th>\n",
       "      <td>1018286.0</td>\n",
       "    </tr>\n",
       "    <tr>\n",
       "      <th>1964</th>\n",
       "      <td>1083954.0</td>\n",
       "    </tr>\n",
       "    <tr>\n",
       "      <th>...</th>\n",
       "      <th>...</th>\n",
       "      <td>...</td>\n",
       "    </tr>\n",
       "    <tr>\n",
       "      <th rowspan=\"5\" valign=\"top\">Wyoming</th>\n",
       "      <th>2014</th>\n",
       "      <td>861315.0</td>\n",
       "    </tr>\n",
       "    <tr>\n",
       "      <th>2015</th>\n",
       "      <td>826923.0</td>\n",
       "    </tr>\n",
       "    <tr>\n",
       "      <th>2016</th>\n",
       "      <td>804279.0</td>\n",
       "    </tr>\n",
       "    <tr>\n",
       "      <th>2017</th>\n",
       "      <td>834337.0</td>\n",
       "    </tr>\n",
       "    <tr>\n",
       "      <th>2018</th>\n",
       "      <td>848077.0</td>\n",
       "    </tr>\n",
       "  </tbody>\n",
       "</table>\n",
       "<p>3068 rows × 1 columns</p>\n",
       "</div>"
      ],
      "text/plain": [
       "                    BTU\n",
       "State   Year           \n",
       "Alabama 1960   934925.0\n",
       "        1961   924371.0\n",
       "        1962   993378.0\n",
       "        1963  1018286.0\n",
       "        1964  1083954.0\n",
       "...                 ...\n",
       "Wyoming 2014   861315.0\n",
       "        2015   826923.0\n",
       "        2016   804279.0\n",
       "        2017   834337.0\n",
       "        2018   848077.0\n",
       "\n",
       "[3068 rows x 1 columns]"
      ]
     },
     "execution_count": 25,
     "metadata": {},
     "output_type": "execute_result"
    }
   ],
   "source": [
    "primary_df.groupby([\"State\", \"Year\"]).sum()\n"
   ]
  },
  {
   "cell_type": "code",
   "execution_count": null,
   "metadata": {},
   "outputs": [],
   "source": []
  }
 ],
 "metadata": {
  "kernelspec": {
   "display_name": "Python 3",
   "language": "python",
   "name": "python3"
  }
 },
 "nbformat": 4,
 "nbformat_minor": 5
}
